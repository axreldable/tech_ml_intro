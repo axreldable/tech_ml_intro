{
 "cells": [
  {
   "cell_type": "code",
   "execution_count": 1,
   "metadata": {},
   "outputs": [],
   "source": [
    "import numpy as np\n",
    "import pandas as pd\n",
    "import matplotlib.pyplot as plt\n",
    "\n",
    "from sklearn.neighbors import KNeighborsRegressor\n",
    "from sklearn.model_selection import KFold, cross_val_score\n",
    "from sklearn.linear_model import Ridge\n",
    "from sklearn.ensemble import RandomForestRegressor, GradientBoostingRegressor\n",
    "from sklearn.linear_model import Lasso\n",
    "import lightgbm as lgb\n",
    "\n",
    "import xgboost as xgb"
   ]
  },
  {
   "cell_type": "code",
   "execution_count": 2,
   "metadata": {},
   "outputs": [],
   "source": [
    "train = pd.read_csv('Train.csv.zip', compression='zip')\n",
    "test = pd.read_csv('Test.csv.zip', compression='zip')"
   ]
  },
  {
   "cell_type": "code",
   "execution_count": 3,
   "metadata": {},
   "outputs": [],
   "source": [
    "# Save the 'Id' column\n",
    "train_ID = train['id']\n",
    "test_ID = test['id']\n",
    "\n",
    "# Now drop the 'Id' column since it's unnecessary for the prediction process.\n",
    "train.drop(\"id\", axis = 1, inplace = True)\n",
    "test.drop(\"id\", axis = 1, inplace = True)"
   ]
  },
  {
   "cell_type": "code",
   "execution_count": 4,
   "metadata": {},
   "outputs": [],
   "source": [
    "# настройка параметров\n",
    "train[['build_tech']] = train[['build_tech']].replace(np.nan, 0.5)\n",
    "train[['metro_dist']] = train[['metro_dist']].replace(np.nan, 15.0)\n",
    "train[['g_lift']] = train[['g_lift']].replace(np.nan, 0.5)"
   ]
  },
  {
   "cell_type": "code",
   "execution_count": 5,
   "metadata": {},
   "outputs": [],
   "source": [
    "train['area_per_room'] = train['area'] / train['rooms']\n",
    "test['area_per_room'] = test['area'] / test['rooms']"
   ]
  },
  {
   "cell_type": "code",
   "execution_count": 6,
   "metadata": {},
   "outputs": [],
   "source": [
    "test[['build_tech']] = test[['build_tech']].replace(np.nan, 0.5)\n",
    "test[['metro_dist']] = test[['metro_dist']].replace(np.nan, 15.0)\n",
    "test[['g_lift']] = test[['g_lift']].replace(np.nan, 0.5)"
   ]
  },
  {
   "cell_type": "code",
   "execution_count": 7,
   "metadata": {},
   "outputs": [],
   "source": [
    "train['street_id'] = train['street_id'].astype(str)\n",
    "test['street_id'] = test['street_id'].astype(str)"
   ]
  },
  {
   "cell_type": "code",
   "execution_count": 8,
   "metadata": {},
   "outputs": [],
   "source": [
    "X = train[[\n",
    "#     'date', \n",
    "    'street_id', \n",
    "    'build_tech', \n",
    "    'floor', \n",
    "    'area', 'area_per_room',\n",
    "    'rooms',\n",
    "    'balcon', \n",
    "    'metro_dist', \n",
    "    'g_lift', \n",
    "    'n_photos', \n",
    "#     'kw1', 'kw2', 'kw3', 'kw4', 'kw5', 'kw6', 'kw7', 'kw8', 'kw9', 'kw10', 'kw11', 'kw12', 'kw13'\n",
    "]]\n",
    "y = train[['price']]"
   ]
  },
  {
   "cell_type": "code",
   "execution_count": 9,
   "metadata": {},
   "outputs": [],
   "source": [
    "test = test[[\n",
    "    'street_id', \n",
    "    'build_tech', \n",
    "    'floor', \n",
    "    'area', 'area_per_room',\n",
    "    'rooms',\n",
    "    'balcon', \n",
    "    'metro_dist', \n",
    "    'g_lift', \n",
    "    'n_photos', \n",
    "]]"
   ]
  },
  {
   "cell_type": "code",
   "execution_count": 10,
   "metadata": {},
   "outputs": [],
   "source": [
    "# X = pd.get_dummies(X)\n",
    "# print(X.shape)"
   ]
  },
  {
   "cell_type": "code",
   "execution_count": 11,
   "metadata": {},
   "outputs": [],
   "source": [
    "# Cross-validation with k-folds\n",
    "n_folds = 3\n",
    "\n",
    "def mae_cv(model, X, y, name):\n",
    "    kf = KFold(n_folds, shuffle=True, random_state=42).get_n_splits(X.values)\n",
    "    mae= -cross_val_score(model, X.values, y, scoring=\"neg_mean_absolute_error\", cv = kf)\n",
    "    print(name + \" score: {:.4f}\".format(mae.mean()))"
   ]
  },
  {
   "cell_type": "code",
   "execution_count": 12,
   "metadata": {},
   "outputs": [],
   "source": [
    "knn1 = KNeighborsRegressor(n_neighbors=3) # 1554037.1373234342\n",
    "# mae_cv(knn1, X, y, 'knn-3')\n",
    "\n",
    "knn2 = KNeighborsRegressor(n_neighbors=10) # 1580934.9331793853\n",
    "# mae_cv(knn2, X, y, 'knn-10')\n",
    "\n",
    "rg1 = Ridge(alpha=0.01, random_state=0) # 1692388.0292463482\n",
    "# mae_cv(rg1, X, y, 'rg1-0.01')\n",
    "\n",
    "rg2 = Ridge(alpha=1.1, random_state=0) # 1692378.7748252843\n",
    "# mae_cv(rg2, X, y, 'rg1-1.1')\n",
    "\n",
    "rg3 = Ridge(alpha=100.1, random_state=0) # 1692401.9077769322\n",
    "# mae_cv(rg3, X, y, 'rg1-100.1')\n",
    "\n",
    "lasso1 = Lasso(alpha=0.01, random_state=0) # 1692388.1266646797\n",
    "# mae_cv(lasso1, X, y, 'lasso-1.01')\n",
    "\n",
    "lasso2 = Lasso(alpha=1.1, random_state=0) # 1692387.7184467418\n",
    "# mae_cv(lasso2, X, y, 'lasso-1.1')\n",
    "\n",
    "lasso3 = Lasso(alpha=100.1, random_state=0) # 1692371.585207761\n",
    "# mae_cv(lasso3, X, y, 'lasso-100.1')\n",
    "\n",
    "# knn-3 score: 1554022.4553\n",
    "# knn-10 score: 1580582.9061\n",
    "# rg1-0.01 score: 1693203.7011\n",
    "# rg1-1.1 score: 1693203.9926\n",
    "# rg1-100.1 score: 1693235.5966\n",
    "# lasso-1.01 score: 1693203.6984\n",
    "# lasso-1.1 score: 1693203.6945\n",
    "# lasso-100.1 score: 1693203.3706"
   ]
  },
  {
   "cell_type": "code",
   "execution_count": 13,
   "metadata": {},
   "outputs": [],
   "source": [
    "rf1 = RandomForestRegressor(n_estimators=100, n_jobs=-1, random_state=0) # 1360153.8352\n",
    "# mae_cv(rf1 ,X, y, 'rf-100')\n",
    "\n",
    "rf2 = RandomForestRegressor(n_estimators=1000, n_jobs=-1, random_state=0) # 1354697.7572\n",
    "# mae_cv(rf2 ,X, y, 'rf-1000')"
   ]
  },
  {
   "cell_type": "code",
   "execution_count": 33,
   "metadata": {},
   "outputs": [],
   "source": [
    "gbm1 = lgb.LGBMRegressor(boosting_type='gbdt', learning_rate=0.05, max_depth=2, n_estimators=200, nthread=-1, objective='regression', random_state=0) \n",
    "# 1659428.4293\n",
    "# mae_cv(gbm1 ,X, y, 'gbm1-2')"
   ]
  },
  {
   "cell_type": "code",
   "execution_count": 34,
   "metadata": {},
   "outputs": [],
   "source": [
    "gbm2 = lgb.LGBMRegressor(boosting_type='gbdt', learning_rate=0.05, max_depth=5, n_estimators=200, nthread=-1, objective='regression') \n",
    "# # \n",
    "# mae_cv(gbm2 ,X, y, 'gbm1-5')"
   ]
  },
  {
   "cell_type": "code",
   "execution_count": 35,
   "metadata": {},
   "outputs": [],
   "source": [
    "gb1 = GradientBoostingRegressor(n_estimators=100, random_state=0) # 1557468.3937\n",
    "# mae_cv(gb1 , X, y, 'gbm1-100')"
   ]
  },
  {
   "cell_type": "code",
   "execution_count": 36,
   "metadata": {},
   "outputs": [],
   "source": [
    "xgb1 = xgb.XGBRegressor(max_depth=13, n_estimators=5000, random_state =7) # 875145.9986\n",
    "# mae_cv(xgb1 , X, y, 'xgb1-5000')"
   ]
  },
  {
   "cell_type": "code",
   "execution_count": 37,
   "metadata": {},
   "outputs": [],
   "source": [
    "gb2 = GradientBoostingRegressor(n_estimators=17500, random_state=0) # 680773.1029\n",
    "# mae_cv(gb2 , X, y, 'gbm2-17500')"
   ]
  },
  {
   "cell_type": "code",
   "execution_count": 14,
   "metadata": {},
   "outputs": [],
   "source": [
    "def stack_pred(estimator, X1, y1, k):    \n",
    "    def put_on_places(arr, elems, places):\n",
    "        for i in range(0, len(elems)):\n",
    "            arr[places[i]] = elems[i]\n",
    "        \n",
    "    sX = [3] * len(X)    \n",
    "    kf = KFold(n_splits=k, shuffle=True, random_state=0)\n",
    "    for train_index, test_index in kf.split(X1):\n",
    "        X_train, X_test = X1.values[train_index], X1.values[test_index]\n",
    "        y_train, y_test = y1.values[train_index], y1.values[test_index]\n",
    "        estimator.fit(X_train, y_train)\n",
    "        pred = estimator.predict(X_test) \n",
    "        \n",
    "        put_on_places(sX, pred, test_index)  \n",
    "    return np.array(sX)"
   ]
  },
  {
   "cell_type": "code",
   "execution_count": 15,
   "metadata": {},
   "outputs": [],
   "source": [
    "columns = ['knn1', 'knn2', 'rg1', 'rg2', 'rg3', 'lasso1', 'lasso2', 'lasso3', 'rf1', 'rf2', 'gbm1', 'gbm2', 'gb1', 'gb2']"
   ]
  },
  {
   "cell_type": "code",
   "execution_count": 16,
   "metadata": {},
   "outputs": [],
   "source": [
    "df = pd.DataFrame(index=range(0, y.shape[0]), columns=columns)"
   ]
  },
  {
   "cell_type": "code",
   "execution_count": 17,
   "metadata": {},
   "outputs": [],
   "source": [
    "df['knn1'] = stack_pred(knn1, X, y, 3)"
   ]
  },
  {
   "cell_type": "code",
   "execution_count": 18,
   "metadata": {},
   "outputs": [],
   "source": [
    "df['knn2'] = stack_pred(knn2, X, y, 3)"
   ]
  },
  {
   "cell_type": "code",
   "execution_count": 19,
   "metadata": {},
   "outputs": [],
   "source": [
    "df['rg1'] = stack_pred(rg1, X, y, 3)"
   ]
  },
  {
   "cell_type": "code",
   "execution_count": 20,
   "metadata": {},
   "outputs": [],
   "source": [
    "df['rg2'] = stack_pred(rg2, X, y, 3)"
   ]
  },
  {
   "cell_type": "code",
   "execution_count": 21,
   "metadata": {},
   "outputs": [],
   "source": [
    "df['rg3'] = stack_pred(rg3, X, y, 3)"
   ]
  },
  {
   "cell_type": "code",
   "execution_count": 22,
   "metadata": {},
   "outputs": [],
   "source": [
    "df['lasso1'] = stack_pred(lasso1, X, y, 3)"
   ]
  },
  {
   "cell_type": "code",
   "execution_count": 23,
   "metadata": {},
   "outputs": [],
   "source": [
    "df['lasso2'] = stack_pred(lasso2, X, y, 3)"
   ]
  },
  {
   "cell_type": "code",
   "execution_count": 24,
   "metadata": {},
   "outputs": [],
   "source": [
    "df['lasso3'] = stack_pred(lasso3, X, y, 3)"
   ]
  },
  {
   "cell_type": "code",
   "execution_count": 25,
   "metadata": {},
   "outputs": [
    {
     "name": "stderr",
     "output_type": "stream",
     "text": [
      "/home/axreldable/anaconda3/lib/python3.5/site-packages/ipykernel_launcher.py:11: DataConversionWarning: A column-vector y was passed when a 1d array was expected. Please change the shape of y to (n_samples,), for example using ravel().\n",
      "  # This is added back by InteractiveShellApp.init_path()\n",
      "/home/axreldable/anaconda3/lib/python3.5/site-packages/ipykernel_launcher.py:11: DataConversionWarning: A column-vector y was passed when a 1d array was expected. Please change the shape of y to (n_samples,), for example using ravel().\n",
      "  # This is added back by InteractiveShellApp.init_path()\n",
      "/home/axreldable/anaconda3/lib/python3.5/site-packages/ipykernel_launcher.py:11: DataConversionWarning: A column-vector y was passed when a 1d array was expected. Please change the shape of y to (n_samples,), for example using ravel().\n",
      "  # This is added back by InteractiveShellApp.init_path()\n"
     ]
    }
   ],
   "source": [
    "df['rf1'] = stack_pred(rf1, X, y, 3)"
   ]
  },
  {
   "cell_type": "code",
   "execution_count": 26,
   "metadata": {},
   "outputs": [
    {
     "name": "stderr",
     "output_type": "stream",
     "text": [
      "/home/axreldable/anaconda3/lib/python3.5/site-packages/ipykernel_launcher.py:11: DataConversionWarning: A column-vector y was passed when a 1d array was expected. Please change the shape of y to (n_samples,), for example using ravel().\n",
      "  # This is added back by InteractiveShellApp.init_path()\n",
      "/home/axreldable/anaconda3/lib/python3.5/site-packages/ipykernel_launcher.py:11: DataConversionWarning: A column-vector y was passed when a 1d array was expected. Please change the shape of y to (n_samples,), for example using ravel().\n",
      "  # This is added back by InteractiveShellApp.init_path()\n",
      "/home/axreldable/anaconda3/lib/python3.5/site-packages/ipykernel_launcher.py:11: DataConversionWarning: A column-vector y was passed when a 1d array was expected. Please change the shape of y to (n_samples,), for example using ravel().\n",
      "  # This is added back by InteractiveShellApp.init_path()\n"
     ]
    }
   ],
   "source": [
    "df['rf2'] = stack_pred(rf2, X, y, 3)"
   ]
  },
  {
   "cell_type": "code",
   "execution_count": 38,
   "metadata": {},
   "outputs": [
    {
     "name": "stderr",
     "output_type": "stream",
     "text": [
      "/home/axreldable/anaconda3/lib/python3.5/site-packages/sklearn/utils/validation.py:578: DataConversionWarning: A column-vector y was passed when a 1d array was expected. Please change the shape of y to (n_samples, ), for example using ravel().\n",
      "  y = column_or_1d(y, warn=True)\n",
      "/home/axreldable/anaconda3/lib/python3.5/site-packages/sklearn/utils/validation.py:578: DataConversionWarning: A column-vector y was passed when a 1d array was expected. Please change the shape of y to (n_samples, ), for example using ravel().\n",
      "  y = column_or_1d(y, warn=True)\n",
      "/home/axreldable/anaconda3/lib/python3.5/site-packages/sklearn/utils/validation.py:578: DataConversionWarning: A column-vector y was passed when a 1d array was expected. Please change the shape of y to (n_samples, ), for example using ravel().\n",
      "  y = column_or_1d(y, warn=True)\n"
     ]
    }
   ],
   "source": [
    "df['gbm1'] = stack_pred(gbm1, X, y, 3)"
   ]
  },
  {
   "cell_type": "code",
   "execution_count": 39,
   "metadata": {},
   "outputs": [
    {
     "name": "stderr",
     "output_type": "stream",
     "text": [
      "/home/axreldable/anaconda3/lib/python3.5/site-packages/sklearn/utils/validation.py:578: DataConversionWarning: A column-vector y was passed when a 1d array was expected. Please change the shape of y to (n_samples, ), for example using ravel().\n",
      "  y = column_or_1d(y, warn=True)\n",
      "/home/axreldable/anaconda3/lib/python3.5/site-packages/sklearn/utils/validation.py:578: DataConversionWarning: A column-vector y was passed when a 1d array was expected. Please change the shape of y to (n_samples, ), for example using ravel().\n",
      "  y = column_or_1d(y, warn=True)\n",
      "/home/axreldable/anaconda3/lib/python3.5/site-packages/sklearn/utils/validation.py:578: DataConversionWarning: A column-vector y was passed when a 1d array was expected. Please change the shape of y to (n_samples, ), for example using ravel().\n",
      "  y = column_or_1d(y, warn=True)\n"
     ]
    }
   ],
   "source": [
    "df['gbm2'] = stack_pred(gbm2, X, y, 3)"
   ]
  },
  {
   "cell_type": "code",
   "execution_count": 40,
   "metadata": {},
   "outputs": [
    {
     "name": "stderr",
     "output_type": "stream",
     "text": [
      "/home/axreldable/anaconda3/lib/python3.5/site-packages/sklearn/utils/validation.py:578: DataConversionWarning: A column-vector y was passed when a 1d array was expected. Please change the shape of y to (n_samples, ), for example using ravel().\n",
      "  y = column_or_1d(y, warn=True)\n"
     ]
    }
   ],
   "source": [
    "df['gb1'] = stack_pred(gb1, X, y, 3)"
   ]
  },
  {
   "cell_type": "code",
   "execution_count": 41,
   "metadata": {},
   "outputs": [
    {
     "name": "stderr",
     "output_type": "stream",
     "text": [
      "/home/axreldable/anaconda3/lib/python3.5/site-packages/sklearn/utils/validation.py:578: DataConversionWarning: A column-vector y was passed when a 1d array was expected. Please change the shape of y to (n_samples, ), for example using ravel().\n",
      "  y = column_or_1d(y, warn=True)\n"
     ]
    }
   ],
   "source": [
    "df['gb2'] =  0.2 * stack_pred(xgb1, X, y, 3) + 0.8 * stack_pred(gb2, X, y, 3)"
   ]
  },
  {
   "cell_type": "code",
   "execution_count": 28,
   "metadata": {},
   "outputs": [],
   "source": [
    "# df"
   ]
  },
  {
   "cell_type": "code",
   "execution_count": 42,
   "metadata": {},
   "outputs": [],
   "source": [
    "ens_model = GradientBoostingRegressor(n_estimators=200, random_state=0)"
   ]
  },
  {
   "cell_type": "code",
   "execution_count": 43,
   "metadata": {},
   "outputs": [],
   "source": [
    "df_test = pd.DataFrame(index=range(0, y.shape[0]), columns=columns)"
   ]
  },
  {
   "cell_type": "code",
   "execution_count": null,
   "metadata": {},
   "outputs": [
    {
     "name": "stderr",
     "output_type": "stream",
     "text": [
      "/home/axreldable/anaconda3/lib/python3.5/site-packages/ipykernel_launcher.py:9: DataConversionWarning: A column-vector y was passed when a 1d array was expected. Please change the shape of y to (n_samples,), for example using ravel().\n",
      "  if __name__ == '__main__':\n",
      "/home/axreldable/anaconda3/lib/python3.5/site-packages/ipykernel_launcher.py:10: DataConversionWarning: A column-vector y was passed when a 1d array was expected. Please change the shape of y to (n_samples,), for example using ravel().\n",
      "  # Remove the CWD from sys.path while we load stuff.\n"
     ]
    }
   ],
   "source": [
    "knn1.fit(X, y)\n",
    "knn2.fit(X, y)\n",
    "rg1.fit(X, y)\n",
    "rg2.fit(X, y)\n",
    "rg3.fit(X, y)\n",
    "lasso1.fit(X, y)\n",
    "lasso2.fit(X, y)\n",
    "lasso3.fit(X, y)\n",
    "rf1.fit(X, y)\n",
    "rf2.fit(X, y)"
   ]
  },
  {
   "cell_type": "code",
   "execution_count": null,
   "metadata": {},
   "outputs": [],
   "source": [
    "X_for_gbm = X[[\n",
    "#     'street_id', \n",
    "    'build_tech', \n",
    "    'floor', \n",
    "    'area', 'area_per_room',\n",
    "    'rooms',\n",
    "    'balcon', \n",
    "    'metro_dist', \n",
    "    'g_lift', \n",
    "    'n_photos', \n",
    "]]"
   ]
  },
  {
   "cell_type": "code",
   "execution_count": null,
   "metadata": {},
   "outputs": [],
   "source": [
    "gbm1.fit(X_for_gbm, y)\n",
    "gbm2.fit(X_for_gbm, y)"
   ]
  },
  {
   "cell_type": "code",
   "execution_count": null,
   "metadata": {},
   "outputs": [],
   "source": [
    "xgb1.fit(X_for_gbm, y)"
   ]
  },
  {
   "cell_type": "code",
   "execution_count": null,
   "metadata": {},
   "outputs": [],
   "source": [
    "gb1.fit(X, y)\n",
    "gb2.fit(X, y)"
   ]
  },
  {
   "cell_type": "code",
   "execution_count": null,
   "metadata": {},
   "outputs": [],
   "source": [
    "# columns = ['knn1', 'knn2', 'rg1', 'rg2', 'rg3', 'lasso1', 'lasso2', 'lasso3', 'rf1', 'rf2', 'gbm1', 'gbm2', 'gb1', 'gb2']\n",
    "df_test['knn1'] = knn1.predict(test)\n",
    "df_test['knn2'] = knn2.predict(test)\n",
    "df_test['rg1'] = rg1.predict(test)\n",
    "df_test['rg2'] = rg2.predict(test)\n",
    "df_test['rg3'] = rg3.predict(test)\n",
    "df_test['lasso1'] = lasso1.predict(test)\n",
    "df_test['lasso2'] = lasso2.predict(test)\n",
    "df_test['lasso3'] = lasso3.predict(test)\n",
    "df_test['rf1'] = rf1.predict(test)\n",
    "df_test['rf2'] = rf2.predict(test)"
   ]
  },
  {
   "cell_type": "code",
   "execution_count": null,
   "metadata": {},
   "outputs": [],
   "source": [
    "test_for_gbm = test[[\n",
    "#     'street_id', \n",
    "    'build_tech', \n",
    "    'floor', \n",
    "    'area', 'area_per_room',\n",
    "    'rooms',\n",
    "    'balcon', \n",
    "    'metro_dist', \n",
    "    'g_lift', \n",
    "    'n_photos', \n",
    "]]"
   ]
  },
  {
   "cell_type": "code",
   "execution_count": null,
   "metadata": {},
   "outputs": [],
   "source": [
    "df_test['gbm1'] = gbm1.predict(test_for_gbm)\n",
    "df_test['gbm2'] = gbm2.predict(test_for_gbm)"
   ]
  },
  {
   "cell_type": "code",
   "execution_count": null,
   "metadata": {},
   "outputs": [],
   "source": [
    "df_test['gb1'] = gb1.predict(test)\n",
    "# df_test['gb2'] = gb2.predict(test)\n",
    "df_test['gb2'] = 0.2 * xgb1.predict(test_for_gbm) + 0.8 * gb2.predict(test)"
   ]
  },
  {
   "cell_type": "code",
   "execution_count": null,
   "metadata": {},
   "outputs": [],
   "source": [
    "# df_test"
   ]
  },
  {
   "cell_type": "code",
   "execution_count": null,
   "metadata": {},
   "outputs": [],
   "source": [
    "ens_model.fit(df, y)"
   ]
  },
  {
   "cell_type": "code",
   "execution_count": null,
   "metadata": {},
   "outputs": [],
   "source": [
    "pred_rez = ens_model.predict(df_test)"
   ]
  },
  {
   "cell_type": "code",
   "execution_count": null,
   "metadata": {},
   "outputs": [],
   "source": [
    "rez_test = test"
   ]
  },
  {
   "cell_type": "code",
   "execution_count": null,
   "metadata": {},
   "outputs": [],
   "source": [
    "rez_test['price'] = pred_rez\n",
    "rez_test['id'] = test_ID.values\n",
    "\n",
    "rez_test[['id', 'price']].to_csv('sub.csv', index=False)"
   ]
  },
  {
   "cell_type": "code",
   "execution_count": null,
   "metadata": {},
   "outputs": [],
   "source": [
    "# "
   ]
  }
 ],
 "metadata": {
  "kernelspec": {
   "display_name": "Python 3",
   "language": "python",
   "name": "python3"
  },
  "language_info": {
   "codemirror_mode": {
    "name": "ipython",
    "version": 3
   },
   "file_extension": ".py",
   "mimetype": "text/x-python",
   "name": "python",
   "nbconvert_exporter": "python",
   "pygments_lexer": "ipython3",
   "version": "3.5.5"
  }
 },
 "nbformat": 4,
 "nbformat_minor": 2
}
