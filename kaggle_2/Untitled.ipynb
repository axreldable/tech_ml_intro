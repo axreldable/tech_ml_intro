{
 "cells": [
  {
   "cell_type": "code",
   "execution_count": 3,
   "metadata": {},
   "outputs": [],
   "source": [
    "import numpy\n",
    "import pandas\n",
    "import sklearn.ensemble\n",
    "\n",
    "\n",
    "train = pandas.read_csv('Train.csv.zip', compression='zip')\n",
    "test = pandas.read_csv('Test.csv.zip', compression='zip')\n",
    "\n",
    "train = train.replace(numpy.nan, -999)\n",
    "test = test.replace(numpy.nan, -999)\n",
    "\n",
    "COLUMNS = ['street_id', 'build_tech', 'floor', 'area', 'rooms', 'balcon', 'metro_dist', 'g_lift', 'n_photos', 'kw1', 'kw2', 'kw3', 'kw4', 'kw5', 'kw6', 'kw7', 'kw8', 'kw9', 'kw10', 'kw11', 'kw12', 'kw13']\n",
    "\n",
    "y = train['price'].values\n",
    "X = train[COLUMNS].values\n",
    "Xt = test[COLUMNS].values\n",
    "\n",
    "mdl = sklearn.ensemble.RandomForestRegressor()\n",
    "\n",
    "mdl.fit(X, y)\n",
    "\n",
    "preds = mdl.predict(Xt)\n",
    "\n",
    "test['price'] = preds\n",
    "\n",
    "test[['id', 'price']].to_csv('sub.csv', index=False)"
   ]
  }
 ],
 "metadata": {
  "kernelspec": {
   "display_name": "Python 3",
   "language": "python",
   "name": "python3"
  },
  "language_info": {
   "codemirror_mode": {
    "name": "ipython",
    "version": 3
   },
   "file_extension": ".py",
   "mimetype": "text/x-python",
   "name": "python",
   "nbconvert_exporter": "python",
   "pygments_lexer": "ipython3",
   "version": "3.5.5"
  }
 },
 "nbformat": 4,
 "nbformat_minor": 2
}
