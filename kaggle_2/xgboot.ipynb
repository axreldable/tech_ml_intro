{
 "cells": [
  {
   "cell_type": "code",
   "execution_count": 485,
   "metadata": {},
   "outputs": [],
   "source": [
    "import pandas as pd\n",
    "import numpy as np\n",
    "import seaborn as sns\n",
    "import matplotlib\n",
    "import matplotlib.pyplot as plt\n",
    "import warnings\n",
    "import xgboost as xgb\n",
    "import lightgbm as lgb\n",
    "from scipy.stats import skew\n",
    "from scipy import stats\n",
    "from scipy.stats.stats import pearsonr\n",
    "from scipy.stats import norm\n",
    "from collections import Counter\n",
    "\n",
    "import sklearn\n",
    "import sklearn.model_selection\n",
    "import sklearn.ensemble\n",
    "import sklearn.metrics\n",
    "import sklearn.model_selection"
   ]
  },
  {
   "cell_type": "code",
   "execution_count": 486,
   "metadata": {},
   "outputs": [],
   "source": [
    "train = pd.read_csv('Train.csv.zip', compression='zip')\n",
    "test = pd.read_csv('Test.csv.zip', compression='zip')\n",
    "# train.columns"
   ]
  },
  {
   "cell_type": "code",
   "execution_count": 487,
   "metadata": {},
   "outputs": [],
   "source": [
    "# Save the 'Id' column\n",
    "train_ID = train['id']\n",
    "test_ID = test['id']\n",
    "\n",
    "# Now drop the 'Id' column since it's unnecessary for the prediction process.\n",
    "train.drop(\"id\", axis = 1, inplace = True)\n",
    "test.drop(\"id\", axis = 1, inplace = True)"
   ]
  },
  {
   "cell_type": "code",
   "execution_count": 488,
   "metadata": {},
   "outputs": [
    {
     "name": "stdout",
     "output_type": "stream",
     "text": [
      "Train data size is : (100000, 24)\n",
      "Test data size is : (100000, 23)\n",
      "Combined dataset size is : (200000, 23)\n"
     ]
    },
    {
     "name": "stderr",
     "output_type": "stream",
     "text": [
      "/home/axreldable/anaconda3/lib/python3.5/site-packages/ipykernel_launcher.py:5: FutureWarning: Sorting because non-concatenation axis is not aligned. A future version\n",
      "of pandas will change to not sort by default.\n",
      "\n",
      "To accept the future behavior, pass 'sort=False'.\n",
      "\n",
      "To retain the current behavior and silence the warning, pass 'sort=True'.\n",
      "\n",
      "  \"\"\"\n"
     ]
    }
   ],
   "source": [
    "# Combining Datasets\n",
    "ntrain = train.shape[0]\n",
    "ntest = test.shape[0]\n",
    "y_train = train.price.values\n",
    "all_data = pd.concat((train, test)).reset_index(drop=True)\n",
    "all_data.drop(['price'], axis=1, inplace=True)\n",
    "print(\"Train data size is : {}\".format(train.shape))\n",
    "print(\"Test data size is : {}\".format(test.shape))\n",
    "print(\"Combined dataset size is : {}\".format(all_data.shape))"
   ]
  },
  {
   "cell_type": "code",
   "execution_count": 489,
   "metadata": {},
   "outputs": [],
   "source": [
    "# настройка параметров\n",
    "all_data[['build_tech']] = all_data[['build_tech']].replace(np.nan, 0.5)\n",
    "all_data[['metro_dist']] = all_data[['metro_dist']].replace(np.nan, 15.0)\n",
    "train[['g_lift']] = train[['g_lift']].replace(np.nan, 0.5)"
   ]
  },
  {
   "cell_type": "code",
   "execution_count": 490,
   "metadata": {},
   "outputs": [],
   "source": [
    "all_data.drop(\"date\", axis = 1, inplace = True)\n",
    "all_data.drop(\"kw1\", axis = 1, inplace = True)\n",
    "all_data.drop(\"kw2\", axis = 1, inplace = True)\n",
    "all_data.drop(\"kw3\", axis = 1, inplace = True)\n",
    "all_data.drop(\"kw4\", axis = 1, inplace = True)\n",
    "all_data.drop(\"kw5\", axis = 1, inplace = True)\n",
    "all_data.drop(\"kw6\", axis = 1, inplace = True)\n",
    "all_data.drop(\"kw7\", axis = 1, inplace = True)\n",
    "all_data.drop(\"kw8\", axis = 1, inplace = True)\n",
    "all_data.drop(\"kw9\", axis = 1, inplace = True)\n",
    "all_data.drop(\"kw10\", axis = 1, inplace = True)\n",
    "all_data.drop(\"kw11\", axis = 1, inplace = True)\n",
    "all_data.drop(\"kw12\", axis = 1, inplace = True)\n",
    "all_data.drop(\"kw13\", axis = 1, inplace = True)"
   ]
  },
  {
   "cell_type": "code",
   "execution_count": 491,
   "metadata": {},
   "outputs": [
    {
     "data": {
      "text/html": [
       "<div>\n",
       "<style scoped>\n",
       "    .dataframe tbody tr th:only-of-type {\n",
       "        vertical-align: middle;\n",
       "    }\n",
       "\n",
       "    .dataframe tbody tr th {\n",
       "        vertical-align: top;\n",
       "    }\n",
       "\n",
       "    .dataframe thead th {\n",
       "        text-align: right;\n",
       "    }\n",
       "</style>\n",
       "<table border=\"1\" class=\"dataframe\">\n",
       "  <thead>\n",
       "    <tr style=\"text-align: right;\">\n",
       "      <th></th>\n",
       "      <th>Missing Ratio</th>\n",
       "    </tr>\n",
       "  </thead>\n",
       "  <tbody>\n",
       "    <tr>\n",
       "      <th>g_lift</th>\n",
       "      <td>29.8705</td>\n",
       "    </tr>\n",
       "  </tbody>\n",
       "</table>\n",
       "</div>"
      ],
      "text/plain": [
       "        Missing Ratio\n",
       "g_lift        29.8705"
      ]
     },
     "execution_count": 491,
     "metadata": {},
     "output_type": "execute_result"
    }
   ],
   "source": [
    "# Check if there are any missing values left\n",
    "all_data_na = (all_data.isnull().sum() / len(all_data)) * 100\n",
    "all_data_na = all_data_na.drop(all_data_na[all_data_na == 0].index).sort_values(ascending=False)\n",
    "missing_data = pd.DataFrame({'Missing Ratio' :all_data_na})\n",
    "missing_data.head()"
   ]
  },
  {
   "cell_type": "code",
   "execution_count": 492,
   "metadata": {},
   "outputs": [
    {
     "name": "stdout",
     "output_type": "stream",
     "text": [
      "(200000, 9)\n"
     ]
    }
   ],
   "source": [
    "all_data = pd.get_dummies(all_data)\n",
    "print(all_data.shape)"
   ]
  },
  {
   "cell_type": "code",
   "execution_count": 493,
   "metadata": {},
   "outputs": [
    {
     "name": "stdout",
     "output_type": "stream",
     "text": [
      "<class 'pandas.core.frame.DataFrame'>\n",
      "RangeIndex: 200000 entries, 0 to 199999\n",
      "Data columns (total 9 columns):\n",
      "area          200000 non-null int64\n",
      "balcon        200000 non-null int64\n",
      "build_tech    200000 non-null float64\n",
      "floor         200000 non-null int64\n",
      "g_lift        140259 non-null float64\n",
      "metro_dist    200000 non-null float64\n",
      "n_photos      200000 non-null int64\n",
      "rooms         200000 non-null int64\n",
      "street_id     200000 non-null int64\n",
      "dtypes: float64(3), int64(6)\n",
      "memory usage: 13.7 MB\n"
     ]
    }
   ],
   "source": [
    "all_data\n",
    "all_data.info(verbose=True)"
   ]
  },
  {
   "cell_type": "code",
   "execution_count": 494,
   "metadata": {},
   "outputs": [],
   "source": [
    "# all_data"
   ]
  },
  {
   "cell_type": "code",
   "execution_count": 495,
   "metadata": {},
   "outputs": [],
   "source": [
    "train = all_data[:ntrain]\n",
    "test = all_data[ntrain:]"
   ]
  },
  {
   "cell_type": "code",
   "execution_count": 496,
   "metadata": {},
   "outputs": [
    {
     "data": {
      "text/plain": [
       "array([ 3947000,  2525000, 19984000, ...,  3076000,  8251000,  2346000])"
      ]
     },
     "execution_count": 496,
     "metadata": {},
     "output_type": "execute_result"
    }
   ],
   "source": [
    "y_train"
   ]
  },
  {
   "cell_type": "code",
   "execution_count": 497,
   "metadata": {},
   "outputs": [],
   "source": [
    "X, Xt, y, yt = sklearn.model_selection.train_test_split(train, y_train, test_size=0.3, random_state=0)"
   ]
  },
  {
   "cell_type": "code",
   "execution_count": 498,
   "metadata": {},
   "outputs": [],
   "source": [
    "# X"
   ]
  },
  {
   "cell_type": "code",
   "execution_count": 499,
   "metadata": {},
   "outputs": [],
   "source": [
    "model_xgb = xgb.XGBRegressor(max_depth=13, n_estimators=10000, random_state =7)\n",
    "\n",
    "# XGBRegressor max_depth=6 n_estimators=100: 1675995.2668916667\n",
    "# XGBRegressor max_depth=6 n_estimators=5000: 959617.0378790039\n",
    "# XGBRegressor max_depth=6 n_estimators=10000: 911419.2695312988\n",
    "# XGBRegressor max_depth=6 n_estimators=15000: 902241.6986599203\n",
    "\n",
    "# XGBRegressor max_depth=6 n_estimators=100: 1282773.6694083333 заполненный g_lift\n",
    "# XGBRegressor max_depth=6 n_estimators=100: 1284701.1225666667 пустой g_lift\n",
    "# XGBRegressor max_depth=6 n_estimators=100: 1294787.9690958334 с датой как dummies\n",
    "# XGBRegressor max_depth=6 n_estimators=100: 1285825.3127229167 с включенным kw10\n",
    "\n",
    "# XGBRegressor max_depth=11 n_estimators=100: 1031950.7442583333\n",
    "# XGBRegressor max_depth=12 n_estimators=100: 1011165.3294583333\n",
    "# XGBRegressor max_depth=13 n_estimators=100: 1009005.9016822916\n",
    "# XGBRegressor max_depth=14 n_estimators=100: 1027168.0148854167\n",
    "# XGBRegressor max_depth=24 n_estimators=100: 1270361.10094375\n",
    "\n",
    "# XGBRegressor max_depth=13 n_estimators=5000: 864670.0302248698\n",
    "# XGBRegressor max_depth=13 n_estimators=10000: 864670.2538933593"
   ]
  },
  {
   "cell_type": "code",
   "execution_count": 500,
   "metadata": {},
   "outputs": [
    {
     "name": "stdout",
     "output_type": "stream",
     "text": [
      "XGBRegressor max_depth=13 n_estimators=10000: 864670.2538933593\n"
     ]
    }
   ],
   "source": [
    "model_xgb.fit(X, y)\n",
    "\n",
    "pred = model_xgb.predict(Xt)\n",
    "\n",
    "score = sklearn.metrics.mean_absolute_error(yt, pred)\n",
    "\n",
    "print('XGBRegressor max_depth=13 n_estimators=10000: %s' % (score))"
   ]
  },
  {
   "cell_type": "code",
   "execution_count": 501,
   "metadata": {},
   "outputs": [],
   "source": [
    "# model_xgb.fit(train, y_train)\n",
    "\n",
    "# pred_rez = clf_gbm.predict(test)"
   ]
  },
  {
   "cell_type": "code",
   "execution_count": 502,
   "metadata": {},
   "outputs": [],
   "source": [
    "# test['price'] = pred_rez\n",
    "# test['id'] = test_ID\n",
    "\n",
    "# test[['id', 'price']].to_csv('sub.csv', index=False)"
   ]
  }
 ],
 "metadata": {
  "kernelspec": {
   "display_name": "Python 3",
   "language": "python",
   "name": "python3"
  },
  "language_info": {
   "codemirror_mode": {
    "name": "ipython",
    "version": 3
   },
   "file_extension": ".py",
   "mimetype": "text/x-python",
   "name": "python",
   "nbconvert_exporter": "python",
   "pygments_lexer": "ipython3",
   "version": "3.5.5"
  }
 },
 "nbformat": 4,
 "nbformat_minor": 2
}
