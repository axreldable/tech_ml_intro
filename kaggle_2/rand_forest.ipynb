{
 "cells": [
  {
   "cell_type": "code",
   "execution_count": 1,
   "metadata": {},
   "outputs": [],
   "source": [
    "import pandas as pd\n",
    "import numpy as np\n",
    "import seaborn as sns\n",
    "import matplotlib\n",
    "import matplotlib.pyplot as plt\n",
    "import warnings\n",
    "import xgboost as xgb\n",
    "import lightgbm as lgb\n",
    "from scipy.stats import skew\n",
    "from scipy import stats\n",
    "from scipy.stats.stats import pearsonr\n",
    "from scipy.stats import norm\n",
    "from collections import Counter\n",
    "\n",
    "import sklearn\n",
    "import sklearn.model_selection\n",
    "import sklearn.ensemble\n",
    "import sklearn.metrics\n",
    "import sklearn.model_selection\n",
    "\n",
    "from sklearn.ensemble import AdaBoostRegressor\n",
    "from sklearn.tree import DecisionTreeRegressor"
   ]
  },
  {
   "cell_type": "code",
   "execution_count": 2,
   "metadata": {},
   "outputs": [],
   "source": [
    "train = pd.read_csv('Train.csv.zip', compression='zip')\n",
    "test = pd.read_csv('Test.csv.zip', compression='zip')\n",
    "# train.columns"
   ]
  },
  {
   "cell_type": "code",
   "execution_count": 3,
   "metadata": {},
   "outputs": [],
   "source": [
    "# Save the 'Id' column\n",
    "train_ID = train['id']\n",
    "test_ID = test['id']\n",
    "\n",
    "# Now drop the 'Id' column since it's unnecessary for the prediction process.\n",
    "train.drop(\"id\", axis = 1, inplace = True)\n",
    "test.drop(\"id\", axis = 1, inplace = True)"
   ]
  },
  {
   "cell_type": "code",
   "execution_count": 4,
   "metadata": {},
   "outputs": [
    {
     "name": "stdout",
     "output_type": "stream",
     "text": [
      "Train data size is : (100000, 24)\n",
      "Test data size is : (100000, 23)\n",
      "Combined dataset size is : (200000, 23)\n"
     ]
    },
    {
     "name": "stderr",
     "output_type": "stream",
     "text": [
      "/home/axreldable/anaconda3/lib/python3.5/site-packages/ipykernel_launcher.py:5: FutureWarning: Sorting because non-concatenation axis is not aligned. A future version\n",
      "of pandas will change to not sort by default.\n",
      "\n",
      "To accept the future behavior, pass 'sort=False'.\n",
      "\n",
      "To retain the current behavior and silence the warning, pass 'sort=True'.\n",
      "\n",
      "  \"\"\"\n"
     ]
    }
   ],
   "source": [
    "# Combining Datasets\n",
    "ntrain = train.shape[0]\n",
    "ntest = test.shape[0]\n",
    "y_train = train.price.values\n",
    "all_data = pd.concat((train, test)).reset_index(drop=True)\n",
    "all_data.drop(['price'], axis=1, inplace=True)\n",
    "print(\"Train data size is : {}\".format(train.shape))\n",
    "print(\"Test data size is : {}\".format(test.shape))\n",
    "print(\"Combined dataset size is : {}\".format(all_data.shape))"
   ]
  },
  {
   "cell_type": "code",
   "execution_count": 5,
   "metadata": {},
   "outputs": [],
   "source": [
    "# настройка параметров\n",
    "all_data[['build_tech']] = all_data[['build_tech']].replace(np.nan, 0.5)\n",
    "all_data[['metro_dist']] = all_data[['metro_dist']].replace(np.nan, 15.0)\n",
    "all_data[['g_lift']] = all_data[['g_lift']].replace(np.nan, 0.5)"
   ]
  },
  {
   "cell_type": "code",
   "execution_count": 6,
   "metadata": {},
   "outputs": [],
   "source": [
    "# all_data.drop(\"street_id\", axis = 1, inplace = True)\n",
    "all_data.drop(\"date\", axis = 1, inplace = True)\n",
    "all_data.drop(\"kw1\", axis = 1, inplace = True)\n",
    "all_data.drop(\"kw2\", axis = 1, inplace = True)\n",
    "all_data.drop(\"kw3\", axis = 1, inplace = True)\n",
    "all_data.drop(\"kw4\", axis = 1, inplace = True)\n",
    "all_data.drop(\"kw5\", axis = 1, inplace = True)\n",
    "all_data.drop(\"kw6\", axis = 1, inplace = True)\n",
    "all_data.drop(\"kw7\", axis = 1, inplace = True)\n",
    "all_data.drop(\"kw8\", axis = 1, inplace = True)\n",
    "all_data.drop(\"kw9\", axis = 1, inplace = True)\n",
    "all_data.drop(\"kw10\", axis = 1, inplace = True)\n",
    "all_data.drop(\"kw11\", axis = 1, inplace = True)\n",
    "all_data.drop(\"kw12\", axis = 1, inplace = True)\n",
    "all_data.drop(\"kw13\", axis = 1, inplace = True)"
   ]
  },
  {
   "cell_type": "code",
   "execution_count": 7,
   "metadata": {},
   "outputs": [
    {
     "data": {
      "text/html": [
       "<div>\n",
       "<style scoped>\n",
       "    .dataframe tbody tr th:only-of-type {\n",
       "        vertical-align: middle;\n",
       "    }\n",
       "\n",
       "    .dataframe tbody tr th {\n",
       "        vertical-align: top;\n",
       "    }\n",
       "\n",
       "    .dataframe thead th {\n",
       "        text-align: right;\n",
       "    }\n",
       "</style>\n",
       "<table border=\"1\" class=\"dataframe\">\n",
       "  <thead>\n",
       "    <tr style=\"text-align: right;\">\n",
       "      <th></th>\n",
       "      <th>Missing Ratio</th>\n",
       "    </tr>\n",
       "  </thead>\n",
       "  <tbody>\n",
       "  </tbody>\n",
       "</table>\n",
       "</div>"
      ],
      "text/plain": [
       "Empty DataFrame\n",
       "Columns: [Missing Ratio]\n",
       "Index: []"
      ]
     },
     "execution_count": 7,
     "metadata": {},
     "output_type": "execute_result"
    }
   ],
   "source": [
    "# Check if there are any missing values left\n",
    "all_data_na = (all_data.isnull().sum() / len(all_data)) * 100\n",
    "all_data_na = all_data_na.drop(all_data_na[all_data_na == 0].index).sort_values(ascending=False)\n",
    "missing_data = pd.DataFrame({'Missing Ratio' :all_data_na})\n",
    "missing_data.head()"
   ]
  },
  {
   "cell_type": "code",
   "execution_count": 8,
   "metadata": {},
   "outputs": [
    {
     "name": "stdout",
     "output_type": "stream",
     "text": [
      "<class 'pandas.core.frame.DataFrame'>\n",
      "RangeIndex: 200000 entries, 0 to 199999\n",
      "Data columns (total 9 columns):\n",
      "area          200000 non-null int64\n",
      "balcon        200000 non-null int64\n",
      "build_tech    200000 non-null float64\n",
      "floor         200000 non-null int64\n",
      "g_lift        200000 non-null float64\n",
      "metro_dist    200000 non-null float64\n",
      "n_photos      200000 non-null int64\n",
      "rooms         200000 non-null int64\n",
      "street_id     200000 non-null int64\n",
      "dtypes: float64(3), int64(6)\n",
      "memory usage: 13.7 MB\n"
     ]
    }
   ],
   "source": [
    "all_data\n",
    "all_data.info(verbose=True)"
   ]
  },
  {
   "cell_type": "code",
   "execution_count": 9,
   "metadata": {},
   "outputs": [],
   "source": [
    "train = all_data[:ntrain]\n",
    "test = all_data[ntrain:]"
   ]
  },
  {
   "cell_type": "code",
   "execution_count": 10,
   "metadata": {},
   "outputs": [],
   "source": [
    "X, Xt, y, yt = sklearn.model_selection.train_test_split(train, y_train, test_size=0.3, random_state=0)"
   ]
  },
  {
   "cell_type": "code",
   "execution_count": 11,
   "metadata": {},
   "outputs": [],
   "source": [
    "# model_tree = sklearn.tree.DecisionTreeRegressor(criterion='mse', max_depth=None, random_state=0) # 1798933.65\n",
    "# model_tree = AdaBoostRegressor(DecisionTreeRegressor(max_depth=None), n_estimators=300, random_state=0) # 1380666.5887088694\n",
    "# model_tree = AdaBoostRegressor(DecisionTreeRegressor(max_depth=5), n_estimators=300, random_state=0) # 4599763.136858827\n",
    "\n",
    "# without street_id\n",
    "# model_tree = AdaBoostRegressor(DecisionTreeRegressor(max_depth=None), n_estimators=300, random_state=0) # 2358689.91983982\n",
    "\n",
    "model_tree = AdaBoostRegressor(DecisionTreeRegressor(max_depth=None), n_estimators=300, random_state=0) # "
   ]
  },
  {
   "cell_type": "code",
   "execution_count": 12,
   "metadata": {},
   "outputs": [
    {
     "name": "stdout",
     "output_type": "stream",
     "text": [
      "AdaBoostRegressor: 1380666.5887088694\n"
     ]
    }
   ],
   "source": [
    "model_tree.fit(X, y)\n",
    "\n",
    "pred = model_tree.predict(Xt)\n",
    "\n",
    "score = sklearn.metrics.mean_absolute_error(yt, pred)\n",
    "\n",
    "print('AdaBoostRegressor: %s' % (score))"
   ]
  },
  {
   "cell_type": "code",
   "execution_count": 13,
   "metadata": {},
   "outputs": [],
   "source": [
    "# model_xgb.fit(train, y_train)\n",
    "\n",
    "# pred_rez = clf_gbm.predict(test)"
   ]
  },
  {
   "cell_type": "code",
   "execution_count": 14,
   "metadata": {},
   "outputs": [],
   "source": [
    "# test['price'] = pred_rez\n",
    "# test['id'] = test_ID\n",
    "\n",
    "# test[['id', 'price']].to_csv('sub.csv', index=False)"
   ]
  }
 ],
 "metadata": {
  "kernelspec": {
   "display_name": "Python 3",
   "language": "python",
   "name": "python3"
  },
  "language_info": {
   "codemirror_mode": {
    "name": "ipython",
    "version": 3
   },
   "file_extension": ".py",
   "mimetype": "text/x-python",
   "name": "python",
   "nbconvert_exporter": "python",
   "pygments_lexer": "ipython3",
   "version": "3.5.5"
  }
 },
 "nbformat": 4,
 "nbformat_minor": 2
}
