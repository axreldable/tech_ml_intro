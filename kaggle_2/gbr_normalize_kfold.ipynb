{
 "cells": [
  {
   "cell_type": "code",
   "execution_count": 21,
   "metadata": {},
   "outputs": [],
   "source": [
    "import pandas as pd\n",
    "import numpy as np\n",
    "import seaborn as sns\n",
    "import matplotlib\n",
    "import matplotlib.pyplot as plt\n",
    "import warnings\n",
    "import xgboost as xgb\n",
    "import lightgbm as lgb\n",
    "from scipy.stats import skew\n",
    "from scipy import stats\n",
    "from scipy.stats.stats import pearsonr\n",
    "from scipy.stats import norm\n",
    "from collections import Counter"
   ]
  },
  {
   "cell_type": "code",
   "execution_count": 32,
   "metadata": {},
   "outputs": [
    {
     "data": {
      "text/plain": [
       "Index(['id', 'date', 'street_id', 'build_tech', 'floor', 'area', 'rooms',\n",
       "       'balcon', 'metro_dist', 'g_lift', 'n_photos', 'kw1', 'kw2', 'kw3',\n",
       "       'kw4', 'kw5', 'kw6', 'kw7', 'kw8', 'kw9', 'kw10', 'kw11', 'kw12',\n",
       "       'kw13', 'price'],\n",
       "      dtype='object')"
      ]
     },
     "execution_count": 32,
     "metadata": {},
     "output_type": "execute_result"
    }
   ],
   "source": [
    "train = pd.read_csv('Train.csv.zip', compression='zip')\n",
    "test = pd.read_csv('Test.csv.zip', compression='zip')\n",
    "train.columns"
   ]
  },
  {
   "cell_type": "code",
   "execution_count": 33,
   "metadata": {},
   "outputs": [],
   "source": [
    "# Save the 'Id' column\n",
    "train_ID = train['id']\n",
    "test_ID = test['id']\n",
    "\n",
    "# Now drop the 'Id' column since it's unnecessary for the prediction process.\n",
    "train.drop(\"id\", axis = 1, inplace = True)\n",
    "test.drop(\"id\", axis = 1, inplace = True)"
   ]
  },
  {
   "cell_type": "code",
   "execution_count": 34,
   "metadata": {},
   "outputs": [
    {
     "name": "stdout",
     "output_type": "stream",
     "text": [
      "Train data size is : (100000, 24)\n",
      "Test data size is : (100000, 23)\n",
      "Combined dataset size is : (200000, 23)\n"
     ]
    },
    {
     "name": "stderr",
     "output_type": "stream",
     "text": [
      "/home/axreldable/anaconda3/lib/python3.5/site-packages/ipykernel_launcher.py:5: FutureWarning: Sorting because non-concatenation axis is not aligned. A future version\n",
      "of pandas will change to not sort by default.\n",
      "\n",
      "To accept the future behavior, pass 'sort=False'.\n",
      "\n",
      "To retain the current behavior and silence the warning, pass 'sort=True'.\n",
      "\n",
      "  \"\"\"\n"
     ]
    }
   ],
   "source": [
    "# Combining Datasets\n",
    "ntrain = train.shape[0]\n",
    "ntest = test.shape[0]\n",
    "y_train = train.price.values\n",
    "all_data = pd.concat((train, test)).reset_index(drop=True)\n",
    "all_data.drop(['price'], axis=1, inplace=True)\n",
    "print(\"Train data size is : {}\".format(train.shape))\n",
    "print(\"Test data size is : {}\".format(test.shape))\n",
    "print(\"Combined dataset size is : {}\".format(all_data.shape))"
   ]
  },
  {
   "cell_type": "code",
   "execution_count": 35,
   "metadata": {},
   "outputs": [],
   "source": [
    "# настройка параметров\n",
    "all_data[['build_tech']] = all_data[['build_tech']].replace(np.nan, 0.5)\n",
    "all_data[['metro_dist']] = all_data[['metro_dist']].replace(np.nan, 15.0)"
   ]
  },
  {
   "cell_type": "code",
   "execution_count": 36,
   "metadata": {},
   "outputs": [],
   "source": [
    "all_data.drop(\"g_lift\", axis = 1, inplace = True)\n",
    "all_data.drop(\"street_id\", axis = 1, inplace = True)\n",
    "all_data.drop(\"date\", axis = 1, inplace = True)\n",
    "all_data.drop(\"kw1\", axis = 1, inplace = True)\n",
    "all_data.drop(\"kw2\", axis = 1, inplace = True)\n",
    "all_data.drop(\"kw3\", axis = 1, inplace = True)\n",
    "all_data.drop(\"kw4\", axis = 1, inplace = True)\n",
    "all_data.drop(\"kw5\", axis = 1, inplace = True)\n",
    "all_data.drop(\"kw6\", axis = 1, inplace = True)\n",
    "all_data.drop(\"kw7\", axis = 1, inplace = True)\n",
    "all_data.drop(\"kw8\", axis = 1, inplace = True)\n",
    "all_data.drop(\"kw9\", axis = 1, inplace = True)\n",
    "all_data.drop(\"kw10\", axis = 1, inplace = True)\n",
    "all_data.drop(\"kw11\", axis = 1, inplace = True)\n",
    "all_data.drop(\"kw12\", axis = 1, inplace = True)\n",
    "all_data.drop(\"kw13\", axis = 1, inplace = True)"
   ]
  },
  {
   "cell_type": "code",
   "execution_count": 37,
   "metadata": {},
   "outputs": [
    {
     "data": {
      "text/html": [
       "<div>\n",
       "<style scoped>\n",
       "    .dataframe tbody tr th:only-of-type {\n",
       "        vertical-align: middle;\n",
       "    }\n",
       "\n",
       "    .dataframe tbody tr th {\n",
       "        vertical-align: top;\n",
       "    }\n",
       "\n",
       "    .dataframe thead th {\n",
       "        text-align: right;\n",
       "    }\n",
       "</style>\n",
       "<table border=\"1\" class=\"dataframe\">\n",
       "  <thead>\n",
       "    <tr style=\"text-align: right;\">\n",
       "      <th></th>\n",
       "      <th>Missing Ratio</th>\n",
       "    </tr>\n",
       "  </thead>\n",
       "  <tbody>\n",
       "  </tbody>\n",
       "</table>\n",
       "</div>"
      ],
      "text/plain": [
       "Empty DataFrame\n",
       "Columns: [Missing Ratio]\n",
       "Index: []"
      ]
     },
     "execution_count": 37,
     "metadata": {},
     "output_type": "execute_result"
    }
   ],
   "source": [
    "# Check if there are any missing values left\n",
    "all_data_na = (all_data.isnull().sum() / len(all_data)) * 100\n",
    "all_data_na = all_data_na.drop(all_data_na[all_data_na == 0].index).sort_values(ascending=False)\n",
    "missing_data = pd.DataFrame({'Missing Ratio' :all_data_na})\n",
    "missing_data.head()"
   ]
  },
  {
   "cell_type": "code",
   "execution_count": 38,
   "metadata": {},
   "outputs": [
    {
     "name": "stdout",
     "output_type": "stream",
     "text": [
      "<class 'pandas.core.frame.DataFrame'>\n",
      "RangeIndex: 200000 entries, 0 to 199999\n",
      "Data columns (total 7 columns):\n",
      "area          200000 non-null int64\n",
      "balcon        200000 non-null int64\n",
      "build_tech    200000 non-null float64\n",
      "floor         200000 non-null int64\n",
      "metro_dist    200000 non-null float64\n",
      "n_photos      200000 non-null int64\n",
      "rooms         200000 non-null int64\n",
      "dtypes: float64(2), int64(5)\n",
      "memory usage: 10.7 MB\n"
     ]
    }
   ],
   "source": [
    "all_data\n",
    "all_data.info(verbose=True)"
   ]
  },
  {
   "cell_type": "code",
   "execution_count": 39,
   "metadata": {},
   "outputs": [
    {
     "name": "stdout",
     "output_type": "stream",
     "text": [
      "\n",
      " mu = 15.13 and sigma = 0.68\n",
      "\n"
     ]
    },
    {
     "data": {
      "image/png": "[encoded data removed]",
      "text/plain": [
       "<Figure size 432x288 with 1 Axes>"
      ]
     },
     "metadata": {
      "needs_background": "light"
     },
     "output_type": "display_data"
    },
    {
     "data": {
      "image/png": "[encoded data removed]",
      "text/plain": [
       "<Figure size 432x288 with 1 Axes>"
      ]
     },
     "metadata": {
      "needs_background": "light"
     },
     "output_type": "display_data"
    },
    {
     "name": "stdout",
     "output_type": "stream",
     "text": [
      "Skewness: 0.127139\n",
      "Kurtosis: 0.122251\n"
     ]
    }
   ],
   "source": [
    "# We use the numpy fuction log1p which  applies log(1+x) to all elements of the column\n",
    "train[\"price\"] = np.log1p(train[\"price\"])\n",
    "\n",
    "#Check the new distribution \n",
    "sns.distplot(train['price'] , fit=norm);\n",
    "\n",
    "# Get the fitted parameters used by the function\n",
    "(mu, sigma) = norm.fit(train['price'])\n",
    "print( '\\n mu = {:.2f} and sigma = {:.2f}\\n'.format(mu, sigma))\n",
    "plt.legend(['Normal dist. ($\\mu=$ {:.2f} and $\\sigma=$ {:.2f} )'.format(mu, sigma)],\n",
    "            loc='best')\n",
    "plt.ylabel('Frequency')\n",
    "plt.title('price distribution')\n",
    "\n",
    "fig = plt.figure()\n",
    "res = stats.probplot(train['price'], plot=plt)\n",
    "plt.show()\n",
    "\n",
    "y_train = train.price.values\n",
    "\n",
    "print(\"Skewness: %f\" % train['price'].skew())\n",
    "print(\"Kurtosis: %f\" % train['price'].kurt())"
   ]
  },
  {
   "cell_type": "code",
   "execution_count": 40,
   "metadata": {},
   "outputs": [
    {
     "data": {
      "text/html": [
       "<div>\n",
       "<style scoped>\n",
       "    .dataframe tbody tr th:only-of-type {\n",
       "        vertical-align: middle;\n",
       "    }\n",
       "\n",
       "    .dataframe tbody tr th {\n",
       "        vertical-align: top;\n",
       "    }\n",
       "\n",
       "    .dataframe thead th {\n",
       "        text-align: right;\n",
       "    }\n",
       "</style>\n",
       "<table border=\"1\" class=\"dataframe\">\n",
       "  <thead>\n",
       "    <tr style=\"text-align: right;\">\n",
       "      <th></th>\n",
       "      <th>Skewed Features</th>\n",
       "    </tr>\n",
       "  </thead>\n",
       "  <tbody>\n",
       "    <tr>\n",
       "      <th>area</th>\n",
       "      <td>3.050215</td>\n",
       "    </tr>\n",
       "    <tr>\n",
       "      <th>floor</th>\n",
       "      <td>1.665184</td>\n",
       "    </tr>\n",
       "    <tr>\n",
       "      <th>balcon</th>\n",
       "      <td>0.954434</td>\n",
       "    </tr>\n",
       "    <tr>\n",
       "      <th>build_tech</th>\n",
       "      <td>0.665679</td>\n",
       "    </tr>\n",
       "    <tr>\n",
       "      <th>n_photos</th>\n",
       "      <td>0.567549</td>\n",
       "    </tr>\n",
       "    <tr>\n",
       "      <th>rooms</th>\n",
       "      <td>0.055912</td>\n",
       "    </tr>\n",
       "    <tr>\n",
       "      <th>metro_dist</th>\n",
       "      <td>-0.615003</td>\n",
       "    </tr>\n",
       "  </tbody>\n",
       "</table>\n",
       "</div>"
      ],
      "text/plain": [
       "            Skewed Features\n",
       "area               3.050215\n",
       "floor              1.665184\n",
       "balcon             0.954434\n",
       "build_tech         0.665679\n",
       "n_photos           0.567549\n",
       "rooms              0.055912\n",
       "metro_dist        -0.615003"
      ]
     },
     "execution_count": 40,
     "metadata": {},
     "output_type": "execute_result"
    }
   ],
   "source": [
    "numeric_feats = all_data.dtypes[all_data.dtypes != \"object\"].index\n",
    "\n",
    "# Check the skew of all numerical features\n",
    "skewed_feats = all_data[numeric_feats].apply(lambda x: skew(x.dropna())).sort_values(ascending=False)\n",
    "skewness = pd.DataFrame({'Skewed Features' :skewed_feats})\n",
    "skewness"
   ]
  },
  {
   "cell_type": "code",
   "execution_count": 41,
   "metadata": {},
   "outputs": [
    {
     "name": "stdout",
     "output_type": "stream",
     "text": [
      "There are 7 skewed numerical features to Box Cox transform\n"
     ]
    }
   ],
   "source": [
    "skewness = skewness[abs(skewness) > 0.75]\n",
    "print(\"There are {} skewed numerical features to Box Cox transform\".format(skewness.shape[0]))\n",
    "\n",
    "from scipy.special import boxcox1p\n",
    "skewed_features = skewness.index\n",
    "lam = 0.15\n",
    "for feat in skewed_features:\n",
    "    all_data[feat] = boxcox1p(all_data[feat], lam)\n",
    "    all_data[feat] += 1"
   ]
  },
  {
   "cell_type": "code",
   "execution_count": 43,
   "metadata": {},
   "outputs": [],
   "source": [
    "train = all_data[:ntrain]\n",
    "test = all_data[ntrain:]"
   ]
  },
  {
   "cell_type": "code",
   "execution_count": 49,
   "metadata": {},
   "outputs": [
    {
     "data": {
      "text/plain": [
       "(100000, 7)"
      ]
     },
     "execution_count": 49,
     "metadata": {},
     "output_type": "execute_result"
    }
   ],
   "source": [
    "y_train.shape"
   ]
  },
  {
   "cell_type": "code",
   "execution_count": 145,
   "metadata": {},
   "outputs": [],
   "source": [
    "# X.shape"
   ]
  },
  {
   "cell_type": "code",
   "execution_count": 51,
   "metadata": {},
   "outputs": [],
   "source": [
    "# это только для подбора параметров\n",
    "\n",
    "clf = sklearn.ensemble.GradientBoostingRegressor(n_estimators=10000, random_state=0)\n",
    "kf = sklearn.model_selection.KFold(n_splits=3, shuffle=True, random_state=0)\n",
    "\n",
    "scorer = sklearn.metrics.make_scorer(sklearn.metrics.mean_absolute_error)\n",
    "scores = sklearn.model_selection.cross_val_score(clf, train, y_train, scoring=scorer, cv=kf)\n",
    "print(scores)\n",
    "print(scores.mean(), scores.std())\n",
    "\n",
    "# [0.36920096 0.36588502 0.36571012]\n",
    "# 0.3669320318613996 0.0016059614409274633"
   ]
  },
  {
   "cell_type": "code",
   "execution_count": 63,
   "metadata": {},
   "outputs": [
    {
     "name": "stdout",
     "output_type": "stream",
     "text": [
      "[0.37162186 0.36812795 0.36817486]\n",
      "0.3693082207915419 0.0016360990627752722\n"
     ]
    }
   ],
   "source": [
    "clf = sklearn.ensemble.GradientBoostingRegressor(n_estimators=17500, random_state=0)\n",
    "kf = sklearn.model_selection.KFold(n_splits=3, shuffle=True, random_state=0)\n",
    "\n",
    "scorer = sklearn.metrics.make_scorer(sklearn.metrics.mean_absolute_error)\n",
    "scores = sklearn.model_selection.cross_val_score(clf, train, y_train, scoring=scorer, cv=kf)\n",
    "print(scores)\n",
    "print(scores.mean(), scores.std())\n",
    "\n",
    "# [0.37162186 0.36812795 0.36817486]\n",
    "# 0.3693082207915419 0.0016360990627752722"
   ]
  },
  {
   "cell_type": "code",
   "execution_count": 66,
   "metadata": {},
   "outputs": [],
   "source": [
    "X, Xt, y, yt = sklearn.model_selection.train_test_split(train, y_train, test_size=0.3, random_state=0)"
   ]
  },
  {
   "cell_type": "code",
   "execution_count": 67,
   "metadata": {},
   "outputs": [
    {
     "name": "stdout",
     "output_type": "stream",
     "text": [
      "Score Gradient Boosting 10000: 0.3695049797783601\n"
     ]
    }
   ],
   "source": [
    "# clf_gbm_100 = sklearn.ensemble.GradientBoostingRegressor(n_estimators=100, random_state=0)\n",
    "# clf_gbm_1000 = sklearn.ensemble.GradientBoostingRegressor(n_estimators=1000, random_state=0) # 1039250\n",
    "# clf_gbm_5000 = sklearn.ensemble.GradientBoostingRegressor(n_estimators=5000, random_state=0) # 706501\n",
    "# clf_gbm_7500 = sklearn.ensemble.GradientBoostingRegressor(n_estimators=7500, random_state=0) # 684244\n",
    "clf_gbm_10000 = sklearn.ensemble.GradientBoostingRegressor(n_estimators=10000, random_state=0) # 675663\n",
    "# clf_gbm_15000 = sklearn.ensemble.GradientBoostingRegressor(n_estimators=15000, random_state=0) # 671288\n",
    "# clf_gbm_17500 = sklearn.ensemble.GradientBoostingRegressor(n_estimators=17500, random_state=0) # 670816\n",
    "# clf_gbm_25000 = sklearn.ensemble.GradientBoostingRegressor(n_estimators=25000, random_state=0) # 672847\n",
    "# clf_gbm_42500 = sklearn.ensemble.GradientBoostingRegressor(n_estimators=42500, random_state=0) # 680505\n",
    "# clf_gbm_50000 = sklearn.ensemble.GradientBoostingRegressor(n_estimators=50000, random_state=0) # 684699\n",
    "# clf_gbm_75000 = sklearn.ensemble.GradientBoostingRegressor(n_estimators=75000, random_state=0) # 697975\n",
    "# clf_gbm_100000 = sklearn.ensemble.GradientBoostingRegressor(n_estimators=100000, random_state=0)\n",
    "\n",
    "clf_gbm_10000.fit(X, y)\n",
    "\n",
    "pred_gbm_10000 = clf_gbm_10000.predict(Xt)\n",
    "\n",
    "score_gbm_10000 = sklearn.metrics.mean_absolute_error(yt, pred_gbm_10000)\n",
    "\n",
    "print('Score Gradient Boosting 10000: %s' % (score_gbm_10000))"
   ]
  },
  {
   "cell_type": "code",
   "execution_count": 84,
   "metadata": {},
   "outputs": [
    {
     "name": "stdout",
     "output_type": "stream",
     "text": [
      "Score Gradient Boosting 10000: 1676091.30536175\n"
     ]
    }
   ],
   "source": [
    "score_gbm_10000 = sklearn.metrics.mean_absolute_error(np.expm1(yt), np.expm1(pred_gbm_10000))\n",
    "\n",
    "print('Score Gradient Boosting 10000: %s' % (score_gbm_10000))"
   ]
  },
  {
   "cell_type": "code",
   "execution_count": 68,
   "metadata": {},
   "outputs": [],
   "source": [
    "clf_gbm_10000.fit(train, y_train)\n",
    "\n",
    "pred = clf_gbm_10000.predict(test)"
   ]
  },
  {
   "cell_type": "code",
   "execution_count": 70,
   "metadata": {},
   "outputs": [
    {
     "data": {
      "text/plain": [
       "array([ 3144393.79059227,  2442017.5120132 ,  2917471.50440742, ...,\n",
       "        5527994.88709401,  2926002.15954253, 11069570.04730394])"
      ]
     },
     "execution_count": 70,
     "metadata": {},
     "output_type": "execute_result"
    }
   ],
   "source": [
    "pred_old = pred\n",
    "pred_new = np.expm1(pred_old)\n",
    "pred_new"
   ]
  },
  {
   "cell_type": "code",
   "execution_count": 79,
   "metadata": {},
   "outputs": [
    {
     "data": {
      "text/plain": [
       "array([100000, 100001, 100002, ..., 199997, 199998, 199999])"
      ]
     },
     "execution_count": 79,
     "metadata": {},
     "output_type": "execute_result"
    }
   ],
   "source": [
    "test_ID.values"
   ]
  },
  {
   "cell_type": "code",
   "execution_count": 81,
   "metadata": {},
   "outputs": [
    {
     "name": "stderr",
     "output_type": "stream",
     "text": [
      "/home/axreldable/anaconda3/lib/python3.5/site-packages/ipykernel_launcher.py:1: SettingWithCopyWarning: \n",
      "A value is trying to be set on a copy of a slice from a DataFrame.\n",
      "Try using .loc[row_indexer,col_indexer] = value instead\n",
      "\n",
      "See the caveats in the documentation: http://pandas.pydata.org/pandas-docs/stable/indexing.html#indexing-view-versus-copy\n",
      "  \"\"\"Entry point for launching an IPython kernel.\n",
      "/home/axreldable/anaconda3/lib/python3.5/site-packages/ipykernel_launcher.py:2: SettingWithCopyWarning: \n",
      "A value is trying to be set on a copy of a slice from a DataFrame.\n",
      "Try using .loc[row_indexer,col_indexer] = value instead\n",
      "\n",
      "See the caveats in the documentation: http://pandas.pydata.org/pandas-docs/stable/indexing.html#indexing-view-versus-copy\n",
      "  \n"
     ]
    }
   ],
   "source": [
    "test['price'] = pred_new\n",
    "test['id'] = test_ID.values\n",
    "test\n",
    "test[['id', 'price']].to_csv('sub.csv', index=False)"
   ]
  }
 ],
 "metadata": {
  "kernelspec": {
   "display_name": "Python 3",
   "language": "python",
   "name": "python3"
  },
  "language_info": {
   "codemirror_mode": {
    "name": "ipython",
    "version": 3
   },
   "file_extension": ".py",
   "mimetype": "text/x-python",
   "name": "python",
   "nbconvert_exporter": "python",
   "pygments_lexer": "ipython3",
   "version": "3.5.5"
  }
 },
 "nbformat": 4,
 "nbformat_minor": 2
}
