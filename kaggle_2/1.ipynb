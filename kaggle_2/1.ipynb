{
 "cells": [
  {
   "cell_type": "code",
   "execution_count": 21,
   "metadata": {},
   "outputs": [],
   "source": [
    "import numpy as np\n",
    "import pandas as pd\n",
    "import matplotlib.pyplot as plt\n",
    "\n",
    "import sklearn\n",
    "import sklearn.model_selection\n",
    "import sklearn.ensemble\n",
    "import sklearn.metrics\n",
    "import sklearn.model_selection\n",
    "\n",
    "import seaborn as sns"
   ]
  },
  {
   "cell_type": "code",
   "execution_count": 22,
   "metadata": {},
   "outputs": [],
   "source": [
    "train = pd.read_csv('Train.csv.zip', compression='zip')\n",
    "test = pd.read_csv('Test.csv.zip', compression='zip')\n",
    "# train.columns"
   ]
  },
  {
   "cell_type": "code",
   "execution_count": 23,
   "metadata": {},
   "outputs": [],
   "source": [
    "# настройка параметров\n",
    "\n",
    "# train = train.replace(np.nan, -999)\n",
    "# test = test.replace(np.nan, -999)\n",
    "\n",
    "train[['build_tech']] = train[['build_tech']].replace(np.nan, 0.5)\n",
    "train[['metro_dist']] = train[['metro_dist']].replace(np.nan, 15.0)\n",
    "train[['g_lift']] = train[['g_lift']].replace(np.nan, 0.5)"
   ]
  },
  {
   "cell_type": "code",
   "execution_count": 24,
   "metadata": {},
   "outputs": [
    {
     "name": "stderr",
     "output_type": "stream",
     "text": [
      "/home/axreldable/anaconda3/lib/python3.5/site-packages/ipykernel_launcher.py:7: SettingWithCopyWarning: \n",
      "A value is trying to be set on a copy of a slice from a DataFrame.\n",
      "Try using .loc[row_indexer,col_indexer] = value instead\n",
      "\n",
      "See the caveats in the documentation: http://pandas.pydata.org/pandas-docs/stable/indexing.html#indexing-view-versus-copy\n",
      "  import sys\n"
     ]
    }
   ],
   "source": [
    "# X = train.iloc[:,2:-14] # remove ia and price\n",
    "X = train[['street_id', 'build_tech', 'floor', 'area', 'rooms',\n",
    "       'balcon', 'metro_dist', 'g_lift', 'n_photos']]\n",
    "# X = train.iloc[:,2:-1] # remove ia and price\n",
    "y = train.iloc[:,-1] # target value - price\n",
    "\n",
    "X['street_id'] = X['street_id'].astype(str)\n",
    "\n",
    "X, Xt, y, yt = sklearn.model_selection.train_test_split(X, y, test_size=0.3, random_state=0)"
   ]
  },
  {
   "cell_type": "code",
   "execution_count": 25,
   "metadata": {},
   "outputs": [],
   "source": [
    "# X = train[['area', 'rooms', 'build_tech', 'balcon', 'floor', 'n_photos']]"
   ]
  },
  {
   "cell_type": "code",
   "execution_count": 26,
   "metadata": {},
   "outputs": [],
   "source": [
    "# train analysis\n",
    "\n",
    "# train[['id', 'date', 'street_id', 'build_tech', 'floor', 'area', 'rooms',\n",
    "#        'balcon', 'metro_dist', 'g_lift', 'n_photos', 'price']]\n",
    "\n",
    "# train.info(verbose=True)\n",
    "# train.describe()\n",
    "\n",
    "# df = train[['g_lift']]\n",
    "# df\n",
    "# s = df.iloc[:, 0]\n",
    "# u = pd.Series(s, name='A').unique()\n",
    "# u.sort()\n",
    "# u\n",
    "# type(u)\n",
    "# unique, counts = np.unique(s, return_counts=True)\n",
    "# dict(zip(unique, counts))\n",
    "# counts.max()\n",
    "\n",
    "# train['floor'].value_counts()\n",
    "\n",
    "# train['price'].mean()\n",
    "\n",
    "# train.loc[train['floor'] == 10].hist(column='price')\n",
    "# train.hist('price', bins=100)"
   ]
  },
  {
   "cell_type": "code",
   "execution_count": 27,
   "metadata": {},
   "outputs": [],
   "source": [
    "# X.shape"
   ]
  },
  {
   "cell_type": "code",
   "execution_count": 28,
   "metadata": {},
   "outputs": [],
   "source": [
    "# clf = sklearn.ensemble.GradientBoostingRegressor(n_estimators=10000, random_state=0)\n",
    "# kf = sklearn.model_selection.KFold(n_splits=3, shuffle=True, random_state=0)\n",
    "\n",
    "# scorer = sklearn.metrics.make_scorer(sklearn.metrics.mean_absolute_error)\n",
    "# scores = sklearn.model_selection.cross_val_score(clf, X, y, scoring=scorer, cv=kf)\n",
    "# print(scores)\n",
    "# print(scores.mean(), scores.std())"
   ]
  },
  {
   "cell_type": "code",
   "execution_count": 29,
   "metadata": {},
   "outputs": [],
   "source": [
    "# # rgr_rf_10 = sklearn.ensemble.RandomForestRegressor(n_estimators=10, criterion='mae', random_state=0)\n",
    "# rgr_rf_10 = sklearn.ensemble.RandomForestRegressor(n_estimators=10, random_state=0)\n",
    "# rgr_rf_100 = sklearn.ensemble.RandomForestRegressor(n_estimators=100, random_state=0)\n",
    "# # rgr_rf_1000 = sklearn.ensemble.RandomForestRegressor(n_estimators=1000, random_state=0)\n",
    "\n",
    "\n",
    "# rgr_rf_10.fit(X, y)\n",
    "# rgr_rf_100.fit(X, y)\n",
    "# # rgr_rf_1000.fit(X, y)\n",
    "\n",
    "# pred_10 = rgr_rf_10.predict(Xt)\n",
    "# pred_100 = rgr_rf_100.predict(Xt)\n",
    "# # pred_1000 = rgr_rf_1000.predict(Xt)\n",
    "\n",
    "# score_10 = sklearn.metrics.mean_absolute_error(yt, pred_10)\n",
    "# score_100 = sklearn.metrics.mean_absolute_error(yt, pred_100)\n",
    "# # score_1000 = sklearn.metrics.mean_absolute_error(yt, pred_1000)\n",
    "\n",
    "# # print('Score Random Forest n_trees=10: %s' % (score_10))\n",
    "# # print('Score Random Forest n_trees=100: %s' % (score_100))\n",
    "# # print('Score Random Forest n_trees=1000: %s' % (score_1000))"
   ]
  },
  {
   "cell_type": "code",
   "execution_count": 30,
   "metadata": {},
   "outputs": [],
   "source": [
    "# train = train.replace(numpy.nan, -999)\n",
    "# test = test.replace(numpy.nan, -999)\n",
    "\n",
    "# COLUMNS = ['street_id', 'build_tech', 'floor', 'area', 'rooms', 'balcon', 'metro_dist', 'g_lift', 'n_photos', 'kw1', 'kw2', 'kw3', 'kw4', 'kw5', 'kw6', 'kw7', 'kw8', 'kw9', 'kw10', 'kw11', 'kw12', 'kw13']\n",
    "\n",
    "# y = train['price'].values\n",
    "# X = train[COLUMNS].values\n",
    "# Xt = test[COLUMNS].values\n",
    "\n",
    "# mdl = sklearn.ensemble.RandomForestRegressor()\n",
    "\n",
    "# mdl.fit(X, y)\n",
    "\n",
    "# preds = mdl.predict(Xt)\n",
    "\n",
    "# test['price'] = preds\n",
    "\n",
    "# test[['id', 'price']].to_csv('sub.csv', index=False)"
   ]
  },
  {
   "cell_type": "code",
   "execution_count": 31,
   "metadata": {},
   "outputs": [
    {
     "name": "stdout",
     "output_type": "stream",
     "text": [
      "Score Gradient Boosting 10000: 675663.7923877115\n"
     ]
    }
   ],
   "source": [
    "# clf_gbm_100 = sklearn.ensemble.GradientBoostingRegressor(n_estimators=100, random_state=0)\n",
    "# clf_gbm_1000 = sklearn.ensemble.GradientBoostingRegressor(n_estimators=1000, random_state=0) # 1039250\n",
    "# clf_gbm_5000 = sklearn.ensemble.GradientBoostingRegressor(n_estimators=5000, random_state=0) # 706501\n",
    "# clf_gbm_7500 = sklearn.ensemble.GradientBoostingRegressor(n_estimators=7500, random_state=0) # 684244\n",
    "clf_gbm_10000 = sklearn.ensemble.GradientBoostingRegressor(n_estimators=10000, random_state=0) # 675663\n",
    "# clf_gbm_15000 = sklearn.ensemble.GradientBoostingRegressor(n_estimators=15000, random_state=0) # 671288\n",
    "# clf_gbm_17500 = sklearn.ensemble.GradientBoostingRegressor(n_estimators=17500, random_state=0) # 670816\n",
    "# clf_gbm_25000 = sklearn.ensemble.GradientBoostingRegressor(n_estimators=25000, random_state=0) # 672847\n",
    "# clf_gbm_42500 = sklearn.ensemble.GradientBoostingRegressor(n_estimators=42500, random_state=0) # 680505\n",
    "# clf_gbm_50000 = sklearn.ensemble.GradientBoostingRegressor(n_estimators=50000, random_state=0) # 684699\n",
    "# clf_gbm_75000 = sklearn.ensemble.GradientBoostingRegressor(n_estimators=75000, random_state=0) # 697975\n",
    "# clf_gbm_100000 = sklearn.ensemble.GradientBoostingRegressor(n_estimators=100000, random_state=0)\n",
    "\n",
    "clf_gbm_10000.fit(X, y)\n",
    "\n",
    "pred_gbm_10000 = clf_gbm_10000.predict(Xt)\n",
    "\n",
    "score_gbm_10000 = sklearn.metrics.mean_absolute_error(yt, pred_gbm_10000)\n",
    "\n",
    "print('Score Gradient Boosting 10000: %s' % (score_gbm_10000))"
   ]
  },
  {
   "cell_type": "code",
   "execution_count": 32,
   "metadata": {},
   "outputs": [],
   "source": [
    "# test[['build_tech']] = test[['build_tech']].replace(np.nan, 0.5)\n",
    "# test[['metro_dist']] = test[['metro_dist']].replace(np.nan, 15.0)\n",
    "# test[['g_lift']] = test[['g_lift']].replace(np.nan, 0.5)"
   ]
  },
  {
   "cell_type": "code",
   "execution_count": 33,
   "metadata": {},
   "outputs": [],
   "source": [
    "# Xt = test.iloc[:,2:-13] # remove ia and price"
   ]
  },
  {
   "cell_type": "code",
   "execution_count": 34,
   "metadata": {},
   "outputs": [],
   "source": [
    "# clf_gbm = sklearn.ensemble.GradientBoostingRegressor(n_estimators=17500, random_state=0)\n",
    "\n",
    "# clf_gbm.fit(X, y)\n",
    "\n",
    "# pred_gbm = clf_gbm.predict(Xt)"
   ]
  },
  {
   "cell_type": "code",
   "execution_count": 35,
   "metadata": {},
   "outputs": [],
   "source": [
    "# test['price'] = pred_gbm\n",
    "\n",
    "# test[['id', 'price']].to_csv('sub.csv', index=False)"
   ]
  }
 ],
 "metadata": {
  "kernelspec": {
   "display_name": "Python 3",
   "language": "python",
   "name": "python3"
  },
  "language_info": {
   "codemirror_mode": {
    "name": "ipython",
    "version": 3
   },
   "file_extension": ".py",
   "mimetype": "text/x-python",
   "name": "python",
   "nbconvert_exporter": "python",
   "pygments_lexer": "ipython3",
   "version": "3.7.0"
  }
 },
 "nbformat": 4,
 "nbformat_minor": 2
}
