{
 "cells": [
  {
   "cell_type": "markdown",
   "metadata": {},
   "source": [
    "# Кластеризация qRS комплексов в ЭКГ"
   ]
  },
  {
   "cell_type": "markdown",
   "metadata": {},
   "source": [
    "## Общий вид цикла"
   ]
  },
  {
   "cell_type": "markdown",
   "metadata": {},
   "source": [
    "<img src=\"./SinusRhythmLabels.png\">"
   ]
  },
  {
   "cell_type": "markdown",
   "metadata": {},
   "source": [
    "## Экстрасистолы\n",
    "Пример:"
   ]
  },
  {
   "cell_type": "markdown",
   "metadata": {},
   "source": [
    "<img src=\"./Ventricular-extrasystole-ECG.jpg\">"
   ]
  },
  {
   "cell_type": "markdown",
   "metadata": {},
   "source": [
    "# Задание"
   ]
  },
  {
   "cell_type": "markdown",
   "metadata": {},
   "source": [
    "Используя алгоритмы кластеризации разделить qRS комплесы ЭКГ на группы, схожие по форме.\n",
    "Данные представлены в файлах:\n",
    "* ecg200_samples.csv\n",
    "* ecg208_samples.csv\n",
    "* ecg231_samples.csv\n",
    "\n",
    "Разметка комплексов представлена в файлах:\n",
    "* ecg200_labels.csv\n",
    "* ecg208 - разметки нет\n",
    "* ecg231_labels.csv\n",
    "\n",
    "Модель строится отдельно для каждого файла *samples.csv*"
   ]
  },
  {
   "cell_type": "markdown",
   "metadata": {},
   "source": [
    "# Шаг 1 - Загрузка данных"
   ]
  },
  {
   "cell_type": "markdown",
   "metadata": {},
   "source": [
    "см https://docs.scipy.org/doc/numpy/reference/generated/numpy.loadtxt.html"
   ]
  },
  {
   "cell_type": "code",
   "execution_count": null,
   "metadata": {},
   "outputs": [],
   "source": []
  },
  {
   "cell_type": "markdown",
   "metadata": {},
   "source": [
    "### Шаг 1.1(Опционально) - Подготовка данных (нормализация)"
   ]
  },
  {
   "cell_type": "markdown",
   "metadata": {},
   "source": [
    "array / max(array), array - matrix row"
   ]
  },
  {
   "cell_type": "code",
   "execution_count": null,
   "metadata": {},
   "outputs": [],
   "source": []
  },
  {
   "cell_type": "markdown",
   "metadata": {},
   "source": [
    "# Шаг 2 - Загрузка разметки"
   ]
  },
  {
   "cell_type": "code",
   "execution_count": null,
   "metadata": {},
   "outputs": [],
   "source": []
  },
  {
   "cell_type": "markdown",
   "metadata": {},
   "source": [
    "# Шаг 3 - Кластеризация комплексов"
   ]
  },
  {
   "cell_type": "markdown",
   "metadata": {},
   "source": [
    "см: \n",
    "* http://scikit-learn.org/stable/modules/generated/sklearn.cluster.KMeans.html\n",
    "* http://scikit-learn.org/stable/modules/generated/sklearn.cluster.AgglomerativeClustering.html\n",
    "* http://scikit-learn.org/stable/modules/generated/sklearn.cluster.DBSCAN.html"
   ]
  },
  {
   "cell_type": "code",
   "execution_count": null,
   "metadata": {},
   "outputs": [],
   "source": []
  },
  {
   "cell_type": "markdown",
   "metadata": {},
   "source": [
    "# Шаг 4 - Визуализация полученного разбиения:"
   ]
  },
  {
   "cell_type": "code",
   "execution_count": null,
   "metadata": {},
   "outputs": [],
   "source": []
  },
  {
   "cell_type": "markdown",
   "metadata": {},
   "source": [
    "# Шаг 5 - Оценка качества работы выбранных алгоритмов "
   ]
  },
  {
   "cell_type": "markdown",
   "metadata": {},
   "source": [
    "В записимости от исходных данных выбираем метрики.\n",
    "\n",
    "см:\n",
    "* http://scikit-learn.org/stable/modules/generated/sklearn.metrics.silhouette_score.html\n",
    "* http://scikit-learn.org/stable/modules/generated/sklearn.metrics.homogeneity_score.html\n",
    "* http://scikit-learn.org/stable/modules/generated/sklearn.metrics.completeness_score.html\n",
    "* http://scikit-learn.org/stable/modules/generated/sklearn.metrics.v_measure_score.html"
   ]
  },
  {
   "cell_type": "code",
   "execution_count": null,
   "metadata": {},
   "outputs": [],
   "source": []
  },
  {
   "cell_type": "markdown",
   "metadata": {},
   "source": [
    "# Шаг 6 - Подбор параметров для алгоритмов кластеризации\n",
    "- число кластеров\n",
    "- функция расстояния\n",
    "- и т.д."
   ]
  },
  {
   "cell_type": "code",
   "execution_count": null,
   "metadata": {},
   "outputs": [],
   "source": []
  },
  {
   "cell_type": "markdown",
   "metadata": {},
   "source": [
    "# Шаг 7 - Оценка окончательного скора, выводы"
   ]
  },
  {
   "cell_type": "code",
   "execution_count": null,
   "metadata": {},
   "outputs": [],
   "source": []
  }
 ],
 "metadata": {
  "kernelspec": {
   "display_name": "Python 3",
   "language": "python",
   "name": "python3"
  },
  "language_info": {
   "codemirror_mode": {
    "name": "ipython",
    "version": 3
   },
   "file_extension": ".py",
   "mimetype": "text/x-python",
   "name": "python",
   "nbconvert_exporter": "python",
   "pygments_lexer": "ipython3",
   "version": "3.5.5"
  },
  "toc": {
   "base_numbering": 1,
   "nav_menu": {},
   "number_sections": false,
   "sideBar": true,
   "skip_h1_title": false,
   "title_cell": "Table of Contents",
   "title_sidebar": "Contents",
   "toc_cell": false,
   "toc_position": {},
   "toc_section_display": true,
   "toc_window_display": false
  }
 },
 "nbformat": 4,
 "nbformat_minor": 2
}
