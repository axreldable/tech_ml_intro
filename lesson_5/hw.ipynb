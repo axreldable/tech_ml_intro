{
 "cells": [
  {
   "cell_type": "markdown",
   "metadata": {},
   "source": [
    "Реализовать функцию, которая выполняет стэкинг вариант 2 (см. лекцию):  \n",
    "stack_pred(estimator, X, y, Xt, k, method)  \n",
    "return sX, sXt  \n",
    "estimator – sklearn classifier или regressor  \n",
    "method может быть ’predict’ или ’predict_proba’  \n",
    "X, y, Xt, sX, sXt – numpy.array  \n",
    "k – количество фолдов, для разбиения на фолды  \n",
    "использовать: sklearn.model_selection.KFold"
   ]
  },
  {
   "cell_type": "code",
   "execution_count": 91,
   "metadata": {},
   "outputs": [
    {
     "name": "stdout",
     "output_type": "stream",
     "text": [
      "[3, 3, 3, 3, 3]\n",
      "[3, 2, 3, 3, 1]\n"
     ]
    }
   ],
   "source": [
    "import numpy as np\n",
    "rez = [3] * 5\n",
    "print(rez)\n",
    "# функция клвдет элементы на нужные места в списке\n",
    "def put_on_places(arr, elems, places):\n",
    "    for i in range(0, len(elems)):\n",
    "        arr[places[i]] = elems[i]\n",
    "\n",
    "put_on_places(rez, [1,2], [4,1])        \n",
    "print(rez)"
   ]
  },
  {
   "cell_type": "code",
   "execution_count": 92,
   "metadata": {},
   "outputs": [
    {
     "name": "stdout",
     "output_type": "stream",
     "text": [
      "[1 0 0]\n"
     ]
    }
   ],
   "source": [
    "arr = np.array([[0, 0, 0],\n",
    "                [1, 0, 0],\n",
    "                [1, 1, 0,]])\n",
    "\n",
    "# функция производит голосование по столбцам ndarray\n",
    "def voting(arr):\n",
    "    axis = 0\n",
    "    u, indices = np.unique(arr, return_inverse=True)\n",
    "    return u[np.argmax(np.apply_along_axis(np.bincount, axis, indices.reshape(arr.shape),\n",
    "                                None, np.max(indices) + 1), axis=axis)]\n",
    "    \n",
    "print(voiting(arr))"
   ]
  },
  {
   "cell_type": "code",
   "execution_count": 93,
   "metadata": {},
   "outputs": [
    {
     "name": "stdout",
     "output_type": "stream",
     "text": [
      "[1 1 0 1 0 1 1 1 0 0 1 1 0 1 1 1 0 0 1 1 0 1 0 0 0 1 1 1 1 1 1 0 1 1 1 1 0\n",
      " 0 1 0 1 1 1 1 1 0 1 1 0 0 1 1 0 0 1 1 1 1 1 0 0 0 1 1 0 0 1 1 1 1 1 0 1 0\n",
      " 1 0 1 0 1 0 1 1 1 1 0 1 0 1 1 1 0 1 1 1 0 1 1 0 0 1 0 1 1 1 0 0 0 0 1 1 1\n",
      " 0 0 0 1 0 1 0 0 1 1 1 1 1 1 1 1 1 1 1 1 1 0 1 1 1 1 1 1 1 1 1 1 0 1 0 1 1\n",
      " 0 1 0 0 1 0 0 1 1 0 1 1 1 0 1 1 1 1 0 0 0 1 1 1 1 0 0 1 1 1 1 1 1 0 0 0 1\n",
      " 0 1 0 1 1 1 1 0 0 1 1 1 0 1 0 0 1 0 1 1 1 0 1 1 0 1 1 0 0 1 1 1 0 0 0 1 0\n",
      " 1 1 1 0 1 0 1 0 0 0 0 1 1 1 1 1 0 1 1 1 1 1 0 1 1 0 1 1 0 0 0 0 1 1 0 1 1\n",
      " 0 0 0 1 1 1 1 1 0 0 0 1 0 0 0 1 1 1 1 1 0 1 1 1 0 1 1 0 0 1 0 1 0 0 1 1 1\n",
      " 1 1 0 0 0 1 1 0 0 1 1 1 1 0 1 1 0 1 1 1 0 1 1 1 0 0 0 1 1 0 1 1 1 1 0 1 0\n",
      " 1 0 1 0 1 0 1 0 0 1 1 1 1 1 1 1 1 0 0 0 0 0 0 1 1 1 1 1 1 0 1 1 1 1 1 0 1\n",
      " 0 0 0 1 0 1 1 0 0 0 0 1 0 0 0 1 0 1 0 1 1 0 0 0 0 1 1 1 1 0 1 1 0 1 1 1 0\n",
      " 1 1 1 1 0 0 1 0 1 1 1 0 0 0 0 0 1 1 1]\n",
      "[0 1 1 1 1 1 1 1 1 1 0 1 1 0 1 0 1 0 0 0 0 0 1 1 0 1 1 0 1 0 1 0 1 0 1 0 1\n",
      " 0 1 0 1 1 0 1 1 0 1 1 1 0 0 0 0 1 1 1 1 1 1 0 0 0 1 1 0 1 0 0 0 1 1 0 1 0\n",
      " 0 1 1 0 1 1 0 0 0 1 0 1 1 1 0 0 1 0 1 0 1 1 0 1 1 1 1 1 1 1 0 1 0 1 0 0 1\n",
      " 0 0 1 1 1 0 1 1 1 1 1 0 1 0 0 1 1 1 1 0 1 1 0 1 1 1 0 0 1 1 1 0]\n"
     ]
    }
   ],
   "source": [
    "def stack_pred(estimator, X, y, Xt, k, method):\n",
    "    sX = [3] * len(X)\n",
    "    sXt = []\n",
    "    kf = sklearn.model_selection.KFold(n_splits=k, shuffle=True, random_state=0)\n",
    "    for train_index, test_index in kf.split(X):\n",
    "        # sX\n",
    "        X_train, X_test = X[train_index], X[test_index]\n",
    "        y_train, y_test = y[train_index], y[test_index]\n",
    "        estimator.fit(X_train, y_train)\n",
    "        pred = method(X_test)\n",
    "        put_on_places(sX, pred, test_index)\n",
    "        # sXt\n",
    "        pred_t = method(Xt)\n",
    "        sXt.append(pred_t)\n",
    "    # определяем классификатор или регрессор\n",
    "    if (isinstance(clf, sklearn.base.ClassifierMixin)):\n",
    "        sXt = voting(np.array(sXt))\n",
    "    else: \n",
    "        sXt = np.mean(np.array(sXt), axis=0)\n",
    "    \n",
    "    return np.array(sX), sXt\n",
    "\n",
    "clf = sklearn.tree.DecisionTreeClassifier(random_state=0, min_samples_split=8, min_samples_leaf=4)\n",
    "rez_s_X, rez_s_X_t = stack_pred(clf, X, y, Xt, 3, clf.predict)\n",
    "print(rez_s_X)\n",
    "print(rez_s_X_t)"
   ]
  }
 ],
 "metadata": {
  "kernelspec": {
   "display_name": "Python 3",
   "language": "python",
   "name": "python3"
  },
  "language_info": {
   "codemirror_mode": {
    "name": "ipython",
    "version": 3
   },
   "file_extension": ".py",
   "mimetype": "text/x-python",
   "name": "python",
   "nbconvert_exporter": "python",
   "pygments_lexer": "ipython3",
   "version": "3.5.5"
  }
 },
 "nbformat": 4,
 "nbformat_minor": 2
}
