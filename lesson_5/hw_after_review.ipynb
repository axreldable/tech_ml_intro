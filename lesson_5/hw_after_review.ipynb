{
 "cells": [
  {
   "cell_type": "markdown",
   "metadata": {},
   "source": [
    "Реализовать функцию, которая выполняет стэкинг вариант 2 (см. лекцию):  \n",
    "stack_pred(estimator, X, y, Xt, k, method)  \n",
    "return sX, sXt  \n",
    "estimator – sklearn classifier или regressor  \n",
    "method может быть ’predict’ или ’predict_proba’  \n",
    "X, y, Xt, sX, sXt – numpy.array  \n",
    "k – количество фолдов, для разбиения на фолды  \n",
    "использовать: sklearn.model_selection.KFold"
   ]
  },
  {
   "cell_type": "code",
   "execution_count": 98,
   "metadata": {},
   "outputs": [],
   "source": [
    "import numpy\n",
    "import pandas\n",
    "\n",
    "import sklearn.metrics\n",
    "import sklearn.datasets\n",
    "import sklearn.model_selection\n",
    "\n",
    "import sklearn.tree\n",
    "import sklearn.linear_model\n",
    "import sklearn.ensemble\n",
    "\n",
    "import matplotlib.pyplot as plt\n",
    "%matplotlib inline"
   ]
  },
  {
   "cell_type": "code",
   "execution_count": 99,
   "metadata": {},
   "outputs": [],
   "source": [
    "X_full, y_full = sklearn.datasets.load_breast_cancer(return_X_y=True)"
   ]
  },
  {
   "cell_type": "code",
   "execution_count": 100,
   "metadata": {},
   "outputs": [],
   "source": [
    "X, Xt, y, yt = sklearn.model_selection.train_test_split(X_full, y_full, test_size=0.25, random_state=0)"
   ]
  },
  {
   "cell_type": "code",
   "execution_count": 101,
   "metadata": {},
   "outputs": [
    {
     "name": "stdout",
     "output_type": "stream",
     "text": [
      "[3, 3, 3, 3, 3]\n",
      "[3, 2, 3, 3, 1]\n"
     ]
    }
   ],
   "source": [
    "import numpy as np\n",
    "rez = [3] * 5\n",
    "print(rez)\n",
    "\n",
    "# функция кладет элементы на нужные места в списке\n",
    "def put_on_places(arr, elems, places):\n",
    "    for i in range(0, len(elems)):\n",
    "        arr[places[i]] = elems[i]\n",
    "\n",
    "put_on_places(rez, [1,2], [4,1])            \n",
    "print(rez)"
   ]
  },
  {
   "cell_type": "code",
   "execution_count": 102,
   "metadata": {},
   "outputs": [
    {
     "name": "stdout",
     "output_type": "stream",
     "text": [
      "[1 0 0]\n",
      "---\n",
      "[[0 0]\n",
      " [1 1]\n",
      " [0 1]]\n"
     ]
    }
   ],
   "source": [
    "arr_predict = np.array([[0, 0, 0],\n",
    "                        [1, 0, 0],\n",
    "                        [1, 1, 0],\n",
    "                        [1, 1, 1]])\n",
    "\n",
    "arr_predict_proba = np.array([[np.array([0, 1]), np.array([1, 1]), np.array([0, 1])],\n",
    "                              [np.array([0, 0]), np.array([1, 1]), np.array([0, 1])],\n",
    "                              [np.array([0, 0]), np.array([1, 1]), np.array([0, 1])],\n",
    "                              [np.array([0, 0]), np.array([0, 1]), np.array([0, 1])]])\n",
    "\n",
    "# функция производит голосование по столбцам ndarray, работает и для predict, и для predict_proba\n",
    "def voting(arr):\n",
    "    axis = 0\n",
    "    u, indices = np.unique(arr, return_inverse=True)\n",
    "    return u[np.argmax(np.apply_along_axis(np.bincount, axis, indices.reshape(arr.shape),\n",
    "                                None, np.max(indices) + 1), axis=axis)]\n",
    "    \n",
    "print(voting(arr_predict))\n",
    "print('---')\n",
    "print(voting(arr_predict_proba))"
   ]
  },
  {
   "cell_type": "code",
   "execution_count": 103,
   "metadata": {},
   "outputs": [
    {
     "name": "stdout",
     "output_type": "stream",
     "text": [
      "[1. 1. 0. 1. 0. 1. 1. 1. 0. 0. 1. 1. 0. 1. 1. 1. 0. 0. 1. 1. 0. 1. 0. 0.\n",
      " 0. 1. 1. 1. 1. 1. 1. 0. 1. 1. 1. 1. 0. 0. 1. 0. 1. 1. 1. 1. 1. 0. 1. 1.\n",
      " 0. 0. 1. 1. 0. 0. 1. 1. 1. 1. 1. 0. 0. 0. 1. 1. 0. 0. 1. 1. 1. 1. 1. 0.\n",
      " 1. 0. 1. 0. 1. 0. 1. 0. 1. 1. 1. 1. 0. 1. 0. 1. 1. 1. 0. 1. 1. 1. 0. 1.\n",
      " 1. 0. 0. 1. 0. 1. 1. 1. 0. 0. 0. 0. 1. 1. 1. 0. 0. 0. 1. 0. 1. 0. 0. 1.\n",
      " 1. 1. 1. 1. 1. 1. 1. 1. 1. 1. 1. 1. 0. 1. 1. 1. 1. 1. 1. 1. 1. 1. 1. 0.\n",
      " 1. 0. 1. 1. 0. 1. 0. 0. 1. 0. 0. 1. 1. 0. 1. 1. 1. 0. 1. 1. 1. 1. 0. 0.\n",
      " 0. 1. 1. 1. 1. 0. 0. 1. 1. 1. 1. 1. 1. 0. 0. 0. 1. 0. 1. 0. 1. 1. 1. 1.\n",
      " 0. 0. 1. 1. 1. 0. 1. 0. 0. 1. 0. 1. 1. 1. 0. 1. 1. 0. 1. 1. 0. 0. 1. 1.\n",
      " 1. 0. 0. 0. 1. 0. 1. 1. 1. 0. 1. 0. 1. 0. 0. 0. 0. 1. 1. 1. 1. 1. 0. 1.\n",
      " 1. 1. 1. 1. 0. 1. 1. 0. 1. 1. 0. 0. 0. 0. 1. 1. 0. 1. 1. 0. 0. 0. 1. 1.\n",
      " 1. 1. 1. 0. 0. 0. 1. 0. 0. 0. 1. 1. 1. 1. 1. 0. 1. 1. 1. 0. 1. 1. 0. 0.\n",
      " 1. 0. 1. 0. 0. 1. 1. 1. 1. 1. 0. 0. 0. 1. 1. 0. 0. 1. 1. 1. 1. 0. 1. 1.\n",
      " 0. 1. 1. 1. 0. 1. 1. 1. 0. 0. 0. 1. 1. 0. 1. 1. 1. 1. 0. 1. 0. 1. 0. 1.\n",
      " 0. 1. 0. 1. 0. 0. 1. 1. 1. 1. 1. 1. 1. 1. 0. 0. 0. 0. 0. 0. 1. 1. 1. 1.\n",
      " 1. 1. 0. 1. 1. 1. 1. 1. 0. 1. 0. 0. 0. 1. 0. 1. 1. 0. 0. 0. 0. 1. 0. 0.\n",
      " 0. 1. 0. 1. 0. 1. 1. 0. 0. 0. 0. 1. 1. 1. 1. 0. 1. 1. 0. 1. 1. 1. 0. 1.\n",
      " 1. 1. 1. 0. 0. 1. 0. 1. 1. 1. 0. 0. 0. 0. 0. 1. 1. 1.]\n",
      "[0 1 1 1 1 1 1 1 1 1 0 1 1 0 1 0 1 0 0 0 0 0 1 1 0 1 1 0 1 0 1 0 1 0 1 0 1\n",
      " 0 1 0 1 1 0 1 1 0 1 1 1 0 0 0 0 1 1 1 1 1 1 0 0 0 1 1 0 1 0 0 0 1 1 0 1 0\n",
      " 0 1 1 0 1 1 0 0 0 1 0 1 1 1 0 0 1 0 1 0 1 1 0 1 1 1 1 1 1 1 0 1 0 1 0 0 1\n",
      " 0 0 1 1 1 0 1 1 1 1 1 0 1 0 0 1 1 1 1 0 1 1 0 1 1 1 0 0 1 1 1 0]\n"
     ]
    }
   ],
   "source": [
    "# В целом верно, но есть замечания:\n",
    "# 1. В задании предполагалось, что метод будет передан строкой, у вас же в виде clf.predict - это плохая практика\n",
    "# 2. Вы используете список sX и функцию put_on_places для расстановки элементов на правильные позиции, \n",
    "# это работает намного медленнее, чем слайсинг numpy, то же самое можно было сделать следующим образом с использованием слайсинга:\n",
    "# sX = numpy.zeros(X.shape[0]) вместо sX = [3] * len(X)\n",
    "# sX[test_index] = pred вместо put_on_places(sX, pred, test_index)\n",
    "\n",
    "import sklearn.model_selection\n",
    "import sklearn.tree\n",
    "\n",
    "def stack_pred(estimator, X, y, Xt, k, method):\n",
    "    def call_method(estimator, method, vec):\n",
    "        if (method == 'predict'):\n",
    "            return estimator.predict(vec)\n",
    "        elif (method == 'predict_proba'):\n",
    "            return estimator.predict_proba(vec)\n",
    "        else:\n",
    "            raise Exception('unknown method=' + method + '!')\n",
    "    \n",
    "    if (method == 'predict'):\n",
    "        sX = np.zeros(X.shape[0])\n",
    "    else:\n",
    "        sX = [3] * len(X)\n",
    "            \n",
    "    sXt = []\n",
    "    kf = sklearn.model_selection.KFold(n_splits=k, shuffle=True, random_state=0)\n",
    "    for train_index, test_index in kf.split(X):\n",
    "        # sX - предсказания, полученные для k-го фолда при обучении на k-1м фолде\n",
    "        X_train, X_test = X[train_index], X[test_index]\n",
    "        y_train, y_test = y[train_index], y[test_index]\n",
    "        estimator.fit(X_train, y_train)\n",
    "        pred = call_method(estimator, method, X_test)\n",
    "        \n",
    "        if (method == 'predict'):\n",
    "            sX[test_index] = pred\n",
    "        else:\n",
    "            put_on_places(sX, pred, test_index)\n",
    "            \n",
    "        # sXt - на каждой итерации делаем предсказания для всей тестовой выборки, чтобы потом проголосовать или усреднить\n",
    "        pred_t = call_method(estimator, method, Xt)\n",
    "        sXt.append(pred_t)\n",
    "    # определяем классификатор или регрессор\n",
    "    if (isinstance(estimator, sklearn.base.ClassifierMixin)):\n",
    "        sXt = voting(np.array(sXt))\n",
    "    else: \n",
    "        sXt = np.mean(np.array(sXt), axis=0)\n",
    "    \n",
    "    return np.array(sX), sXt\n",
    "\n",
    "clf = sklearn.tree.DecisionTreeClassifier(random_state=0, min_samples_split=8, min_samples_leaf=4)\n",
    "rez_s_X, rez_s_X_t = stack_pred(clf, X, y, Xt, 3, 'predict')\n",
    "print(rez_s_X)\n",
    "print(rez_s_X_t)"
   ]
  }
 ],
 "metadata": {
  "kernelspec": {
   "display_name": "Python 3",
   "language": "python",
   "name": "python3"
  },
  "language_info": {
   "codemirror_mode": {
    "name": "ipython",
    "version": 3
   },
   "file_extension": ".py",
   "mimetype": "text/x-python",
   "name": "python",
   "nbconvert_exporter": "python",
   "pygments_lexer": "ipython3",
   "version": "3.5.5"
  }
 },
 "nbformat": 4,
 "nbformat_minor": 2
}
