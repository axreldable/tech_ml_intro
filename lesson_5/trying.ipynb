{
 "cells": [
  {
   "cell_type": "markdown",
   "metadata": {},
   "source": [
    "Реализовать функцию, которая выполняет стэкинг вариант 2 (см. лекцию):  \n",
    "stack_pred(estimator, X, y, Xt, k, method)  \n",
    "return sX, sXt  \n",
    "estimator – sklearn classifier или regressor  \n",
    "method может быть ’predict’ или ’predict_proba’  \n",
    "X, y, Xt, sX, sXt – numpy.array  \n",
    "k – количество фолдов, для разбиения на фолды  \n",
    "использовать: sklearn.model_selection.KFold"
   ]
  },
  {
   "cell_type": "code",
   "execution_count": 32,
   "metadata": {},
   "outputs": [],
   "source": [
    "import numpy\n",
    "import pandas\n",
    "\n",
    "import sklearn.metrics\n",
    "import sklearn.datasets\n",
    "import sklearn.model_selection\n",
    "\n",
    "import sklearn.tree\n",
    "import sklearn.linear_model\n",
    "import sklearn.ensemble\n",
    "\n",
    "import matplotlib.pyplot as plt\n",
    "%matplotlib inline"
   ]
  },
  {
   "cell_type": "code",
   "execution_count": 33,
   "metadata": {},
   "outputs": [],
   "source": [
    "X_f, y_f = sklearn.datasets.load_breast_cancer(return_X_y=True)"
   ]
  },
  {
   "cell_type": "code",
   "execution_count": 34,
   "metadata": {},
   "outputs": [
    {
     "data": {
      "text/plain": [
       "array([[1.799e+01, 1.038e+01, 1.228e+02, ..., 2.654e-01, 4.601e-01,\n",
       "        1.189e-01],\n",
       "       [2.057e+01, 1.777e+01, 1.329e+02, ..., 1.860e-01, 2.750e-01,\n",
       "        8.902e-02],\n",
       "       [1.969e+01, 2.125e+01, 1.300e+02, ..., 2.430e-01, 3.613e-01,\n",
       "        8.758e-02],\n",
       "       ...,\n",
       "       [1.660e+01, 2.808e+01, 1.083e+02, ..., 1.418e-01, 2.218e-01,\n",
       "        7.820e-02],\n",
       "       [2.060e+01, 2.933e+01, 1.401e+02, ..., 2.650e-01, 4.087e-01,\n",
       "        1.240e-01],\n",
       "       [7.760e+00, 2.454e+01, 4.792e+01, ..., 0.000e+00, 2.871e-01,\n",
       "        7.039e-02]])"
      ]
     },
     "execution_count": 34,
     "metadata": {},
     "output_type": "execute_result"
    }
   ],
   "source": [
    "X_f"
   ]
  },
  {
   "cell_type": "code",
   "execution_count": 35,
   "metadata": {},
   "outputs": [
    {
     "name": "stdout",
     "output_type": "stream",
     "text": [
      "[0.         0.42857143 0.         0.33333333 0.66666667 0.75\n",
      " 0.         0.         0.         0.33333333 0.         0.\n",
      " 0.         1.         0.         0.         0.         0.\n",
      " 0.         1.         1.         1.         0.66666667 0.\n",
      " 0.         0.         0.         0.         0.         0.\n",
      " 0.         0.         0.         0.         0.         0.\n",
      " 1.         1.         1.         0.         1.         1.\n",
      " 0.         0.         0.         0.         1.         0.33333333\n",
      " 1.         1.         1.         1.         1.         0.\n",
      " 0.42857143 1.         0.         0.         1.         1.\n",
      " 1.         1.         0.         1.         0.         0.\n",
      " 1.         1.         0.25       1.         0.         1.\n",
      " 0.         0.85714286 1.         0.         1.         0.\n",
      " 0.         1.         1.         0.75       0.         0.\n",
      " 1.         0.         1.         0.         1.         1.\n",
      " 1.         0.         1.         1.         0.         0.\n",
      " 1.         1.         1.         0.         0.75       1.\n",
      " 1.         1.         1.         0.75       1.         1.\n",
      " 0.25       1.         1.         1.         0.         1.\n",
      " 1.         1.         1.         0.         0.         0.5\n",
      " 1.         0.         0.         1.         1.         1.\n",
      " 0.75       0.         1.         0.         1.         0.\n",
      " 0.         0.66666667 0.         1.         1.         1.\n",
      " 0.         1.         1.         0.         1.         1.\n",
      " 1.         1.         1.         1.         0.         1.\n",
      " 1.         1.         0.5        1.         1.         1.\n",
      " 0.         0.         1.         1.         1.         0.\n",
      " 0.         1.         0.         1.         1.         0.\n",
      " 0.         0.75       1.         0.         0.         1.\n",
      " 1.         1.         0.71428571 0.         1.         1.\n",
      " 0.         0.         0.         1.         0.         1.\n",
      " 0.42857143 1.         1.         1.         0.25       1.\n",
      " 1.         0.75       0.         1.         0.         0.\n",
      " 0.         0.         1.         0.         0.         0.\n",
      " 1.         0.         1.         0.5        1.         0.75\n",
      " 0.         1.         0.         0.5        0.         0.75\n",
      " 1.         1.         0.         0.         1.         1.\n",
      " 1.         0.         1.         0.2        1.         1.\n",
      " 1.         0.         0.         1.         1.         0.\n",
      " 1.         1.         0.         0.5        1.         0.\n",
      " 1.         0.8        1.         1.         0.         1.\n",
      " 1.         0.         1.         1.         0.         1.\n",
      " 0.         0.         0.         0.85714286 0.         0.\n",
      " 0.         0.         0.         0.5        0.         0.\n",
      " 0.         0.         1.         1.         1.         1.\n",
      " 1.         1.         0.         1.         0.         0.5\n",
      " 1.         0.5        1.         1.         0.         0.2\n",
      " 0.         0.         1.         1.         1.         1.\n",
      " 1.         1.         0.71428571 0.         1.         1.\n",
      " 1.         1.         1.         1.         0.85714286 1.\n",
      " 0.         1.         0.         1.         1.         1.\n",
      " 1.         1.         1.         1.         1.         1.\n",
      " 1.         1.         1.         1.         1.         0.\n",
      " 1.         1.         1.         0.5        1.         0.\n",
      " 1.         1.         1.         1.         0.         0.\n",
      " 0.         1.         1.         1.         1.         0.\n",
      " 1.         0.         1.         0.         0.66666667 1.\n",
      " 1.         0.         1.         1.         1.         1.\n",
      " 1.         1.         1.         0.         0.         0.\n",
      " 1.         1.         1.         1.         1.         1.\n",
      " 1.         1.         1.         0.         1.         0.\n",
      " 0.         1.         0.         0.         0.         0.75\n",
      " 0.         0.         1.         0.         0.         0.75\n",
      " 1.         0.75       1.         1.         1.         1.\n",
      " 1.         1.         1.         1.         1.         0.\n",
      " 1.         1.         0.         0.         1.         1.\n",
      " 1.         1.         1.         1.         0.25       1.\n",
      " 1.         0.8        1.         1.         1.         1.\n",
      " 0.         1.         1.         1.         1.         1.\n",
      " 0.2        1.         1.         0.         1.         1.\n",
      " 1.         1.         1.         1.         1.         1.\n",
      " 1.         1.         1.         1.         0.         1.\n",
      " 0.         0.         1.         0.         1.         1.\n",
      " 1.         1.         0.         0.         1.         1.\n",
      " 0.         1.         0.         1.         1.         0.\n",
      " 1.         0.         1.         1.         1.         0.75\n",
      " 1.         1.         1.         1.         0.         0.\n",
      " 1.         1.         1.         1.         1.         1.\n",
      " 0.         0.66666667 1.         1.         1.         1.\n",
      " 1.         1.         1.         0.8        1.         0.\n",
      " 1.         1.         1.         1.         0.66666667 1.\n",
      " 0.75       0.         1.         0.         1.         0.66666667\n",
      " 0.         1.         1.         0.75       0.85714286 1.\n",
      " 0.         0.         1.         0.         1.         0.\n",
      " 1.         0.71428571 1.         1.         0.         0.\n",
      " 1.         0.75       0.         1.         0.5        1.\n",
      " 0.         0.         1.         1.         1.         0.\n",
      " 1.         1.         1.         1.         0.42857143 1.\n",
      " 1.         1.         1.         1.         1.         0.\n",
      " 1.         0.         0.75       1.         1.         1.\n",
      " 1.         1.         1.         0.75       1.         1.\n",
      " 1.         1.         1.         1.         1.         1.\n",
      " 1.         1.         1.         1.         1.         1.\n",
      " 1.         1.         1.         1.         0.25       0.\n",
      " 0.         0.         0.5        0.25       1.        ]\n"
     ]
    }
   ],
   "source": [
    "\n",
    "import sklearn.model_selection\n",
    "import sklearn.tree\n",
    "\n",
    "import sklearn.model_selection\n",
    "import sklearn.tree\n",
    "\n",
    "def stack_pred(estimator, X, y, k):    \n",
    "    sX = np.zeros(X.shape[0])\n",
    "            \n",
    "    kf = sklearn.model_selection.KFold(n_splits=k, shuffle=True, random_state=0)\n",
    "    for train_index, test_index in kf.split(X):\n",
    "        # sX - предсказания, полученные для k-го фолда при обучении на k-1м фолде\n",
    "        X_train, X_test = X[train_index], X[test_index]\n",
    "        y_train, y_test = y[train_index], y[test_index]\n",
    "        estimator.fit(X_train, y_train)\n",
    "        pred = estimator.predict(X_test)\n",
    "        \n",
    "        sX[test_index] = pred\n",
    "    return np.array(sX)\n",
    "\n",
    "clf = sklearn.tree.DecisionTreeRegressor(random_state=0, min_samples_split=8, min_samples_leaf=4)\n",
    "rez_s_X = stack_pred(clf, X_f, y_f, 3)\n",
    "print(rez_s_X)"
   ]
  }
 ],
 "metadata": {
  "kernelspec": {
   "display_name": "Python 3",
   "language": "python",
   "name": "python3"
  },
  "language_info": {
   "codemirror_mode": {
    "name": "ipython",
    "version": 3
   },
   "file_extension": ".py",
   "mimetype": "text/x-python",
   "name": "python",
   "nbconvert_exporter": "python",
   "pygments_lexer": "ipython3",
   "version": "3.5.5"
  }
 },
 "nbformat": 4,
 "nbformat_minor": 2
}
