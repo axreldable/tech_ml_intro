{
 "cells": [
  {
   "cell_type": "code",
   "execution_count": 3,
   "metadata": {},
   "outputs": [],
   "source": [
    "from keras.datasets import mnist\n",
    "from keras.layers import Input, Dense\n",
    "from keras.models import Model\n",
    "import numpy as np\n",
    "(x_train, _), (x_test, _) = mnist.load_data()"
   ]
  },
  {
   "cell_type": "code",
   "execution_count": 4,
   "metadata": {},
   "outputs": [
    {
     "name": "stdout",
     "output_type": "stream",
     "text": [
      "(60000, 784)\n",
      "(10000, 784)\n"
     ]
    }
   ],
   "source": [
    "x_train = x_train.astype('float32') / 255.\n",
    "x_test = x_test.astype('float32') / 255.\n",
    "x_train = x_train.reshape((len(x_train), np.prod(x_train.shape[1:])))\n",
    "x_test = x_test.reshape((len(x_test), np.prod(x_test.shape[1:])))\n",
    "print(x_train.shape)\n",
    "print(x_test.shape)"
   ]
  },
  {
   "cell_type": "code",
   "execution_count": 5,
   "metadata": {},
   "outputs": [],
   "source": [
    "input_img = Input(shape=(784,))\n",
    "encoded = Dense(128, activation='relu')(input_img)\n",
    "encoded = Dense(64, activation='relu')(encoded)\n",
    "encoded = Dense(32, activation='relu')(encoded)\n",
    "\n",
    "decoded = Dense(64, activation='relu')(encoded)\n",
    "decoded = Dense(128, activation='relu')(decoded)\n",
    "decoded = Dense(784, activation='sigmoid')(decoded)"
   ]
  },
  {
   "cell_type": "code",
   "execution_count": 6,
   "metadata": {},
   "outputs": [],
   "source": [
    "autoencoder = Model(input_img, decoded)\n",
    "autoencoder.compile(optimizer='adadelta', loss='binary_crossentropy')"
   ]
  },
  {
   "cell_type": "code",
   "execution_count": 7,
   "metadata": {},
   "outputs": [
    {
     "name": "stdout",
     "output_type": "stream",
     "text": [
      "Train on 60000 samples, validate on 10000 samples\n",
      "Epoch 1/100\n",
      "60000/60000 [==============================] - 5s 78us/step - loss: 0.3466 - val_loss: 0.2640\n",
      "Epoch 2/100\n",
      "60000/60000 [==============================] - 4s 62us/step - loss: 0.2584 - val_loss: 0.2541\n",
      "Epoch 3/100\n",
      "60000/60000 [==============================] - 4s 63us/step - loss: 0.2462 - val_loss: 0.2364\n",
      "Epoch 4/100\n",
      "60000/60000 [==============================] - 4s 60us/step - loss: 0.2252 - val_loss: 0.2115\n",
      "Epoch 5/100\n",
      "60000/60000 [==============================] - 4s 60us/step - loss: 0.2016 - val_loss: 0.1910\n",
      "Epoch 6/100\n",
      "60000/60000 [==============================] - 4s 64us/step - loss: 0.1880 - val_loss: 0.1803\n",
      "Epoch 7/100\n",
      "60000/60000 [==============================] - 5s 76us/step - loss: 0.1780 - val_loss: 0.1755\n",
      "Epoch 8/100\n",
      "60000/60000 [==============================] - 4s 65us/step - loss: 0.1710 - val_loss: 0.1668\n",
      "Epoch 9/100\n",
      "60000/60000 [==============================] - 4s 59us/step - loss: 0.1654 - val_loss: 0.1655\n",
      "Epoch 10/100\n",
      "60000/60000 [==============================] - 4s 63us/step - loss: 0.1605 - val_loss: 0.1564\n",
      "Epoch 11/100\n",
      "60000/60000 [==============================] - 4s 60us/step - loss: 0.1564 - val_loss: 0.1522\n",
      "Epoch 12/100\n",
      "60000/60000 [==============================] - 4s 67us/step - loss: 0.1529 - val_loss: 0.1517\n",
      "Epoch 13/100\n",
      "60000/60000 [==============================] - 6s 102us/step - loss: 0.1500 - val_loss: 0.1468\n",
      "Epoch 14/100\n",
      "60000/60000 [==============================] - 4s 62us/step - loss: 0.1462 - val_loss: 0.1431\n",
      "Epoch 15/100\n",
      "60000/60000 [==============================] - 4s 66us/step - loss: 0.1435 - val_loss: 0.1403\n",
      "Epoch 16/100\n",
      "60000/60000 [==============================] - 4s 60us/step - loss: 0.1412 - val_loss: 0.1383\n",
      "Epoch 17/100\n",
      "60000/60000 [==============================] - 4s 60us/step - loss: 0.1390 - val_loss: 0.1382\n",
      "Epoch 18/100\n",
      "60000/60000 [==============================] - 4s 71us/step - loss: 0.1372 - val_loss: 0.1348\n",
      "Epoch 19/100\n",
      "60000/60000 [==============================] - 6s 94us/step - loss: 0.1358 - val_loss: 0.1324\n",
      "Epoch 20/100\n",
      "60000/60000 [==============================] - 5s 87us/step - loss: 0.1340 - val_loss: 0.1321\n",
      "Epoch 21/100\n",
      "60000/60000 [==============================] - 5s 81us/step - loss: 0.1326 - val_loss: 0.1300\n",
      "Epoch 22/100\n",
      "60000/60000 [==============================] - 5s 83us/step - loss: 0.1311 - val_loss: 0.1281\n",
      "Epoch 23/100\n",
      "60000/60000 [==============================] - 5s 84us/step - loss: 0.1299 - val_loss: 0.1268\n",
      "Epoch 24/100\n",
      "60000/60000 [==============================] - 5s 83us/step - loss: 0.1290 - val_loss: 0.1259\n",
      "Epoch 25/100\n",
      "60000/60000 [==============================] - 5s 87us/step - loss: 0.1276 - val_loss: 0.1236\n",
      "Epoch 26/100\n",
      "60000/60000 [==============================] - 6s 94us/step - loss: 0.1265 - val_loss: 0.1239\n",
      "Epoch 27/100\n",
      "60000/60000 [==============================] - 5s 88us/step - loss: 0.1254 - val_loss: 0.1211\n",
      "Epoch 28/100\n",
      "60000/60000 [==============================] - 6s 94us/step - loss: 0.1243 - val_loss: 0.1225\n",
      "Epoch 29/100\n",
      "60000/60000 [==============================] - 6s 93us/step - loss: 0.1235 - val_loss: 0.1221\n",
      "Epoch 30/100\n",
      "60000/60000 [==============================] - 6s 93us/step - loss: 0.1227 - val_loss: 0.1205\n",
      "Epoch 31/100\n",
      "60000/60000 [==============================] - 7s 109us/step - loss: 0.1218 - val_loss: 0.1226\n",
      "Epoch 32/100\n",
      "60000/60000 [==============================] - 6s 101us/step - loss: 0.1210 - val_loss: 0.1204\n",
      "Epoch 33/100\n",
      "60000/60000 [==============================] - 5s 89us/step - loss: 0.1201 - val_loss: 0.1179\n",
      "Epoch 34/100\n",
      "60000/60000 [==============================] - 6s 92us/step - loss: 0.1197 - val_loss: 0.1161\n",
      "Epoch 35/100\n",
      "60000/60000 [==============================] - 6s 93us/step - loss: 0.1190 - val_loss: 0.1155\n",
      "Epoch 36/100\n",
      "60000/60000 [==============================] - 6s 96us/step - loss: 0.1184 - val_loss: 0.1175\n",
      "Epoch 37/100\n",
      "60000/60000 [==============================] - 6s 94us/step - loss: 0.1177 - val_loss: 0.1161\n",
      "Epoch 38/100\n",
      "60000/60000 [==============================] - 6s 105us/step - loss: 0.1173 - val_loss: 0.1145\n",
      "Epoch 39/100\n",
      "60000/60000 [==============================] - 6s 96us/step - loss: 0.1166 - val_loss: 0.1134\n",
      "Epoch 40/100\n",
      "60000/60000 [==============================] - 6s 92us/step - loss: 0.1160 - val_loss: 0.1135\n",
      "Epoch 41/100\n",
      "60000/60000 [==============================] - 7s 110us/step - loss: 0.1157 - val_loss: 0.1143\n",
      "Epoch 42/100\n",
      "60000/60000 [==============================] - 5s 90us/step - loss: 0.1146 - val_loss: 0.1122\n",
      "Epoch 43/100\n",
      "60000/60000 [==============================] - 7s 113us/step - loss: 0.1145 - val_loss: 0.1151\n",
      "Epoch 44/100\n",
      "60000/60000 [==============================] - 6s 96us/step - loss: 0.1138 - val_loss: 0.1127\n",
      "Epoch 45/100\n",
      "60000/60000 [==============================] - 6s 94us/step - loss: 0.1130 - val_loss: 0.1111\n",
      "Epoch 46/100\n",
      "60000/60000 [==============================] - 7s 124us/step - loss: 0.1130 - val_loss: 0.1132\n",
      "Epoch 47/100\n",
      "60000/60000 [==============================] - 6s 103us/step - loss: 0.1123 - val_loss: 0.1122\n",
      "Epoch 48/100\n",
      "60000/60000 [==============================] - 6s 102us/step - loss: 0.1119 - val_loss: 0.1098\n",
      "Epoch 49/100\n",
      "60000/60000 [==============================] - 6s 98us/step - loss: 0.1113 - val_loss: 0.1108\n",
      "Epoch 50/100\n",
      "60000/60000 [==============================] - 6s 98us/step - loss: 0.1111 - val_loss: 0.1087\n",
      "Epoch 51/100\n",
      "60000/60000 [==============================] - 6s 107us/step - loss: 0.1108 - val_loss: 0.1102\n",
      "Epoch 52/100\n",
      "60000/60000 [==============================] - 6s 99us/step - loss: 0.1106 - val_loss: 0.1108\n",
      "Epoch 53/100\n",
      "60000/60000 [==============================] - 6s 104us/step - loss: 0.1101 - val_loss: 0.1067\n",
      "Epoch 54/100\n",
      "60000/60000 [==============================] - 6s 105us/step - loss: 0.1098 - val_loss: 0.1083\n",
      "Epoch 55/100\n",
      "60000/60000 [==============================] - 7s 111us/step - loss: 0.1097 - val_loss: 0.1078\n",
      "Epoch 56/100\n",
      "60000/60000 [==============================] - 8s 140us/step - loss: 0.1095 - val_loss: 0.1091\n",
      "Epoch 57/100\n",
      "60000/60000 [==============================] - 7s 112us/step - loss: 0.1088 - val_loss: 0.1079\n",
      "Epoch 58/100\n",
      "60000/60000 [==============================] - 7s 113us/step - loss: 0.1088 - val_loss: 0.1064\n",
      "Epoch 59/100\n",
      "60000/60000 [==============================] - 7s 109us/step - loss: 0.1083 - val_loss: 0.1091\n",
      "Epoch 60/100\n",
      "60000/60000 [==============================] - 8s 131us/step - loss: 0.1082 - val_loss: 0.1067\n",
      "Epoch 61/100\n",
      "60000/60000 [==============================] - 6s 107us/step - loss: 0.1076 - val_loss: 0.1068\n",
      "Epoch 62/100\n",
      "60000/60000 [==============================] - 7s 114us/step - loss: 0.1076 - val_loss: 0.1056\n",
      "Epoch 63/100\n",
      "60000/60000 [==============================] - 7s 112us/step - loss: 0.1073 - val_loss: 0.1070\n",
      "Epoch 64/100\n",
      "60000/60000 [==============================] - 7s 109us/step - loss: 0.1069 - val_loss: 0.1053\n",
      "Epoch 65/100\n",
      "60000/60000 [==============================] - 7s 112us/step - loss: 0.1066 - val_loss: 0.1054\n",
      "Epoch 66/100\n",
      "60000/60000 [==============================] - 7s 118us/step - loss: 0.1066 - val_loss: 0.1042\n",
      "Epoch 67/100\n",
      "60000/60000 [==============================] - 7s 110us/step - loss: 0.1063 - val_loss: 0.1067\n",
      "Epoch 68/100\n",
      "60000/60000 [==============================] - 7s 113us/step - loss: 0.1057 - val_loss: 0.1055\n",
      "Epoch 69/100\n",
      "60000/60000 [==============================] - 7s 113us/step - loss: 0.1057 - val_loss: 0.1051\n",
      "Epoch 70/100\n",
      "60000/60000 [==============================] - 7s 117us/step - loss: 0.1056 - val_loss: 0.1034\n",
      "Epoch 71/100\n",
      "60000/60000 [==============================] - 7s 113us/step - loss: 0.1053 - val_loss: 0.1082\n",
      "Epoch 72/100\n",
      "60000/60000 [==============================] - 7s 115us/step - loss: 0.1051 - val_loss: 0.1047\n",
      "Epoch 73/100\n",
      "60000/60000 [==============================] - 7s 114us/step - loss: 0.1048 - val_loss: 0.1064\n",
      "Epoch 74/100\n",
      "60000/60000 [==============================] - 8s 132us/step - loss: 0.1051 - val_loss: 0.1028\n",
      "Epoch 75/100\n",
      "60000/60000 [==============================] - 8s 135us/step - loss: 0.1047 - val_loss: 0.1011\n",
      "Epoch 76/100\n",
      "60000/60000 [==============================] - 9s 150us/step - loss: 0.1051 - val_loss: 0.1059\n",
      "Epoch 77/100\n",
      "60000/60000 [==============================] - 9s 150us/step - loss: 0.1045 - val_loss: 0.1033\n",
      "Epoch 78/100\n",
      "60000/60000 [==============================] - 8s 134us/step - loss: 0.1043 - val_loss: 0.1040\n",
      "Epoch 79/100\n",
      "60000/60000 [==============================] - 9s 155us/step - loss: 0.1043 - val_loss: 0.1058\n",
      "Epoch 80/100\n",
      "60000/60000 [==============================] - 6s 99us/step - loss: 0.1033 - val_loss: 0.1039\n",
      "Epoch 81/100\n",
      "60000/60000 [==============================] - 5s 78us/step - loss: 0.1027 - val_loss: 0.1006\n",
      "Epoch 82/100\n",
      "60000/60000 [==============================] - 5s 84us/step - loss: 0.1027 - val_loss: 0.1027\n",
      "Epoch 83/100\n",
      "60000/60000 [==============================] - 8s 131us/step - loss: 0.1037 - val_loss: 0.1017\n",
      "Epoch 84/100\n",
      "60000/60000 [==============================] - 9s 144us/step - loss: 0.1030 - val_loss: 0.1036\n",
      "Epoch 85/100\n",
      "60000/60000 [==============================] - 7s 120us/step - loss: 0.1028 - val_loss: 0.1020\n",
      "Epoch 86/100\n",
      "60000/60000 [==============================] - 7s 118us/step - loss: 0.1022 - val_loss: 0.1022\n",
      "Epoch 87/100\n",
      "60000/60000 [==============================] - 8s 138us/step - loss: 0.1024 - val_loss: 0.1020\n",
      "Epoch 88/100\n",
      "60000/60000 [==============================] - 6s 106us/step - loss: 0.1020 - val_loss: 0.1050\n",
      "Epoch 89/100\n",
      "60000/60000 [==============================] - 7s 120us/step - loss: 0.1017 - val_loss: 0.1022\n",
      "Epoch 90/100\n",
      "60000/60000 [==============================] - 7s 113us/step - loss: 0.1016 - val_loss: 0.1004\n",
      "Epoch 91/100\n",
      "60000/60000 [==============================] - 6s 98us/step - loss: 0.1016 - val_loss: 0.0994\n",
      "Epoch 92/100\n",
      "60000/60000 [==============================] - 6s 102us/step - loss: 0.1013 - val_loss: 0.1003\n",
      "Epoch 93/100\n",
      "60000/60000 [==============================] - 6s 106us/step - loss: 0.1011 - val_loss: 0.1002\n",
      "Epoch 94/100\n",
      "60000/60000 [==============================] - 7s 114us/step - loss: 0.1010 - val_loss: 0.0988\n",
      "Epoch 95/100\n",
      "60000/60000 [==============================] - 7s 111us/step - loss: 0.1006 - val_loss: 0.1017\n",
      "Epoch 96/100\n",
      "60000/60000 [==============================] - 8s 131us/step - loss: 0.1007 - val_loss: 0.1006\n",
      "Epoch 97/100\n",
      "60000/60000 [==============================] - 8s 126us/step - loss: 0.1009 - val_loss: 0.1012\n",
      "Epoch 98/100\n",
      "60000/60000 [==============================] - 8s 130us/step - loss: 0.1008 - val_loss: 0.1003\n",
      "Epoch 99/100\n",
      "60000/60000 [==============================] - 7s 120us/step - loss: 0.1002 - val_loss: 0.0993\n",
      "Epoch 100/100\n",
      "60000/60000 [==============================] - 7s 111us/step - loss: 0.1002 - val_loss: 0.1006\n"
     ]
    },
    {
     "data": {
      "text/plain": [
       "<keras.callbacks.History at 0x7f2a4695f7b8>"
      ]
     },
     "execution_count": 7,
     "metadata": {},
     "output_type": "execute_result"
    }
   ],
   "source": [
    "autoencoder.fit(x_train, x_train,\n",
    "                epochs=100,\n",
    "                batch_size=256,\n",
    "                shuffle=True,\n",
    "                validation_data=(x_test, x_test))"
   ]
  },
  {
   "cell_type": "code",
   "execution_count": 8,
   "metadata": {},
   "outputs": [],
   "source": [
    "# this model maps an input to its encoded representation\n",
    "encoder = Model(input_img, encoded)"
   ]
  },
  {
   "cell_type": "code",
   "execution_count": 9,
   "metadata": {},
   "outputs": [],
   "source": [
    "decoded_imgs = autoencoder.predict(x_test)"
   ]
  },
  {
   "cell_type": "code",
   "execution_count": 11,
   "metadata": {},
   "outputs": [
    {
     "data": {
      "image/png": "[encoded data removed]",
      "text/plain": [
       "<Figure size 1440x288 with 20 Axes>"
      ]
     },
     "metadata": {
      "needs_background": "light"
     },
     "output_type": "display_data"
    }
   ],
   "source": [
    "# use Matplotlib (don't ask)\n",
    "import matplotlib.pyplot as plt\n",
    "\n",
    "n = 10  # how many digits we will display\n",
    "plt.figure(figsize=(20, 4))\n",
    "for i in range(n):\n",
    "    # display original\n",
    "    ax = plt.subplot(2, n, i + 1)\n",
    "    plt.imshow(x_test[i].reshape(28, 28))\n",
    "    plt.gray()\n",
    "    ax.get_xaxis().set_visible(False)\n",
    "    ax.get_yaxis().set_visible(False)\n",
    "\n",
    "    # display reconstruction\n",
    "    ax = plt.subplot(2, n, i + 1 + n)\n",
    "    plt.imshow(decoded_imgs[i].reshape(28, 28))\n",
    "    plt.gray()\n",
    "    ax.get_xaxis().set_visible(False)\n",
    "    ax.get_yaxis().set_visible(False)\n",
    "plt.show()"
   ]
  },
  {
   "cell_type": "code",
   "execution_count": null,
   "metadata": {},
   "outputs": [],
   "source": []
  }
 ],
 "metadata": {
  "kernelspec": {
   "display_name": "Python 3",
   "language": "python",
   "name": "python3"
  },
  "language_info": {
   "codemirror_mode": {
    "name": "ipython",
    "version": 3
   },
   "file_extension": ".py",
   "mimetype": "text/x-python",
   "name": "python",
   "nbconvert_exporter": "python",
   "pygments_lexer": "ipython3",
   "version": "3.6.6"
  },
  "toc": {
   "colors": {
    "hover_highlight": "#DAA520",
    "navigate_num": "#000000",
    "navigate_text": "#333333",
    "running_highlight": "#FF0000",
    "selected_highlight": "#FFD700",
    "sidebar_border": "#EEEEEE",
    "wrapper_background": "#FFFFFF"
   },
   "moveMenuLeft": true,
   "nav_menu": {
    "height": "12px",
    "width": "252px"
   },
   "navigate_menu": true,
   "number_sections": true,
   "sideBar": true,
   "threshold": 4,
   "toc_cell": false,
   "toc_section_display": "block",
   "toc_window_display": false,
   "widenNotebook": false
  }
 },
 "nbformat": 4,
 "nbformat_minor": 2
}
