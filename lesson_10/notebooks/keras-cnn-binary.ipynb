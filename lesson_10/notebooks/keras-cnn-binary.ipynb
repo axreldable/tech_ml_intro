{
 "cells": [
  {
   "cell_type": "code",
   "execution_count": 6,
   "metadata": {},
   "outputs": [],
   "source": [
    "import keras\n",
    "from keras.datasets import mnist\n",
    "from keras.models import Sequential\n",
    "from keras.layers import Dense, Dropout, Flatten\n",
    "from keras.layers import Conv2D, MaxPooling2D\n",
    "from keras import backend as K\n",
    "\n",
    "import numpy"
   ]
  },
  {
   "cell_type": "code",
   "execution_count": 7,
   "metadata": {},
   "outputs": [],
   "source": [
    "batch_size = 128\n",
    "num_classes = 2\n",
    "epochs = 12\n",
    "\n",
    "# input image dimensions\n",
    "img_rows, img_cols = 28, 28\n",
    "\n",
    "# the data, shuffled and split between train and test sets\n",
    "(x_train, y_train), (x_test, y_test) = mnist.load_data()"
   ]
  },
  {
   "cell_type": "code",
   "execution_count": 9,
   "metadata": {},
   "outputs": [],
   "source": [
    "# Преобразуем таргет в четные/нечетные\n",
    "y_train = numpy.asarray(list(map(lambda x: x % 2, y_train)))\n",
    "y_test = numpy.asarray(list(map(lambda x: x % 2, y_test)))"
   ]
  },
  {
   "cell_type": "code",
   "execution_count": 11,
   "metadata": {},
   "outputs": [],
   "source": [
    "if K.image_data_format() == 'channels_first':\n",
    "    x_train = x_train.reshape(x_train.shape[0], 1, img_rows, img_cols)\n",
    "    x_test = x_test.reshape(x_test.shape[0], 1, img_rows, img_cols)\n",
    "    input_shape = (1, img_rows, img_cols)\n",
    "else:\n",
    "    x_train = x_train.reshape(x_train.shape[0], img_rows, img_cols, 1)\n",
    "    x_test = x_test.reshape(x_test.shape[0], img_rows, img_cols, 1)\n",
    "    input_shape = (img_rows, img_cols, 1)"
   ]
  },
  {
   "cell_type": "code",
   "execution_count": 12,
   "metadata": {},
   "outputs": [
    {
     "name": "stdout",
     "output_type": "stream",
     "text": [
      "x_train shape: (60000, 28, 28, 1)\n",
      "60000 train samples\n",
      "10000 test samples\n"
     ]
    }
   ],
   "source": [
    "x_train = x_train.astype('float32')\n",
    "x_test = x_test.astype('float32')\n",
    "x_train /= 255\n",
    "x_test /= 255\n",
    "print('x_train shape:', x_train.shape)\n",
    "print(x_train.shape[0], 'train samples')\n",
    "print(x_test.shape[0], 'test samples')"
   ]
  },
  {
   "cell_type": "code",
   "execution_count": 13,
   "metadata": {},
   "outputs": [],
   "source": [
    "# convert class vectors to binary class matrices\n",
    "y_train = keras.utils.to_categorical(y_train, num_classes)\n",
    "y_test = keras.utils.to_categorical(y_test, num_classes)"
   ]
  },
  {
   "cell_type": "code",
   "execution_count": 14,
   "metadata": {},
   "outputs": [],
   "source": [
    "model = Sequential()\n",
    "model.add(Conv2D(32, kernel_size=(3, 3),\n",
    "                 activation='relu',\n",
    "                 input_shape=input_shape))\n",
    "model.add(Conv2D(64, (3, 3), activation='relu'))\n",
    "model.add(MaxPooling2D(pool_size=(2, 2)))\n",
    "model.add(Dropout(0.25))\n",
    "model.add(Flatten())\n",
    "model.add(Dense(128, activation='relu'))\n",
    "model.add(Dropout(0.5))\n",
    "model.add(Dense(num_classes, activation='softmax'))"
   ]
  },
  {
   "cell_type": "code",
   "execution_count": 15,
   "metadata": {},
   "outputs": [
    {
     "name": "stdout",
     "output_type": "stream",
     "text": [
      "Train on 60000 samples, validate on 10000 samples\n",
      "Epoch 1/12\n",
      "60000/60000 [==============================] - 45s 744us/step - loss: 0.1352 - acc: 0.9474 - val_loss: 0.0387 - val_acc: 0.9879\n",
      "Epoch 2/12\n",
      "60000/60000 [==============================] - 49s 822us/step - loss: 0.0478 - acc: 0.9837 - val_loss: 0.0317 - val_acc: 0.9898\n",
      "Epoch 3/12\n",
      "60000/60000 [==============================] - 49s 812us/step - loss: 0.0352 - acc: 0.9884 - val_loss: 0.0229 - val_acc: 0.9923\n",
      "Epoch 4/12\n",
      "60000/60000 [==============================] - 60s 1ms/step - loss: 0.0288 - acc: 0.9906 - val_loss: 0.0204 - val_acc: 0.9940\n",
      "Epoch 5/12\n",
      "60000/60000 [==============================] - 62s 1ms/step - loss: 0.0246 - acc: 0.9918 - val_loss: 0.0204 - val_acc: 0.9940\n",
      "Epoch 6/12\n",
      "60000/60000 [==============================] - 50s 834us/step - loss: 0.0217 - acc: 0.9925 - val_loss: 0.0171 - val_acc: 0.9953\n",
      "Epoch 7/12\n",
      "60000/60000 [==============================] - 60s 1ms/step - loss: 0.0189 - acc: 0.9936 - val_loss: 0.0174 - val_acc: 0.9948\n",
      "Epoch 8/12\n",
      "60000/60000 [==============================] - 57s 943us/step - loss: 0.0168 - acc: 0.9944 - val_loss: 0.0166 - val_acc: 0.9951\n",
      "Epoch 9/12\n",
      "60000/60000 [==============================] - 56s 941us/step - loss: 0.0151 - acc: 0.9948 - val_loss: 0.0155 - val_acc: 0.9953\n",
      "Epoch 10/12\n",
      "60000/60000 [==============================] - 57s 947us/step - loss: 0.0141 - acc: 0.9951 - val_loss: 0.0178 - val_acc: 0.9949\n",
      "Epoch 11/12\n",
      "60000/60000 [==============================] - 56s 932us/step - loss: 0.0131 - acc: 0.9958 - val_loss: 0.0194 - val_acc: 0.9946\n",
      "Epoch 12/12\n",
      "60000/60000 [==============================] - 56s 933us/step - loss: 0.0117 - acc: 0.9962 - val_loss: 0.0173 - val_acc: 0.9949\n",
      "Test loss: 0.017340211565719892\n",
      "Test accuracy: 0.9949\n"
     ]
    }
   ],
   "source": [
    "model.compile(loss=keras.losses.categorical_crossentropy,\n",
    "              optimizer=keras.optimizers.Adadelta(),\n",
    "              metrics=['accuracy'])\n",
    "\n",
    "model.fit(x_train, y_train,\n",
    "          batch_size=batch_size,\n",
    "          epochs=epochs,\n",
    "          verbose=1,\n",
    "          validation_data=(x_test, y_test))\n",
    "score = model.evaluate(x_test, y_test, verbose=0)\n",
    "print('Test loss:', score[0])\n",
    "print('Test accuracy:', score[1])"
   ]
  }
 ],
 "metadata": {
  "kernelspec": {
   "display_name": "Python 3",
   "language": "python",
   "name": "python3"
  },
  "language_info": {
   "codemirror_mode": {
    "name": "ipython",
    "version": 3
   },
   "file_extension": ".py",
   "mimetype": "text/x-python",
   "name": "python",
   "nbconvert_exporter": "python",
   "pygments_lexer": "ipython3",
   "version": "3.6.6"
  },
  "toc": {
   "colors": {
    "hover_highlight": "#DAA520",
    "navigate_num": "#000000",
    "navigate_text": "#333333",
    "running_highlight": "#FF0000",
    "selected_highlight": "#FFD700",
    "sidebar_border": "#EEEEEE",
    "wrapper_background": "#FFFFFF"
   },
   "moveMenuLeft": true,
   "nav_menu": {
    "height": "12px",
    "width": "252px"
   },
   "navigate_menu": true,
   "number_sections": true,
   "sideBar": true,
   "threshold": 4,
   "toc_cell": false,
   "toc_section_display": "block",
   "toc_window_display": false,
   "widenNotebook": false
  }
 },
 "nbformat": 4,
 "nbformat_minor": 2
}
