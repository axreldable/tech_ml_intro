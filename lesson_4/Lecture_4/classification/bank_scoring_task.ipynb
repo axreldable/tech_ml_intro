{
 "cells": [
  {
   "cell_type": "markdown",
   "metadata": {
    "toc": "true"
   },
   "source": [
    "<h1>Table of Contents<span class=\"tocSkip\"></span></h1>\n",
    "<div class=\"toc\"><ul class=\"toc-item\"><li><span><a href=\"#Применение-алгоритмов-машинного-обучения-для-задачи-банковского-скоринга\" data-toc-modified-id=\"Применение-алгоритмов-машинного-обучения-для-задачи-банковского-скоринга-1\"><span class=\"toc-item-num\">1&nbsp;&nbsp;</span>Применение алгоритмов машинного обучения для задачи банковского скоринга</a></span></li><li><span><a href=\"#Сравнить-работу-алгоритмов-классификации:\" data-toc-modified-id=\"Сравнить-работу-алгоритмов-классификации:-2\"><span class=\"toc-item-num\">2&nbsp;&nbsp;</span>Сравнить работу алгоритмов классификации:</a></span></li><li><span><a href=\"#Для-анализа-работы-алгоритмов-использовать-метрики:\" data-toc-modified-id=\"Для-анализа-работы-алгоритмов-использовать-метрики:-3\"><span class=\"toc-item-num\">3&nbsp;&nbsp;</span>Для анализа работы алгоритмов использовать метрики:</a></span></li><li><span><a href=\"#Для-разбиения-выборки-в-процессе-кросс-валидации-в-процессе-обучения-можно-использовать-KFold:\" data-toc-modified-id=\"Для-разбиения-выборки-в-процессе-кросс-валидации-в-процессе-обучения-можно-использовать-KFold:-4\"><span class=\"toc-item-num\">4&nbsp;&nbsp;</span>Для разбиения выборки в процессе кросс-валидации в процессе обучения можно использовать KFold:</a></span></li></ul></div>"
   ]
  },
  {
   "cell_type": "markdown",
   "metadata": {},
   "source": [
    "# Применение алгоритмов машинного обучения для задачи банковского скоринга"
   ]
  },
  {
   "cell_type": "markdown",
   "metadata": {},
   "source": [
    "Входными данными являются наборы для обучения и для тестирования:\n",
    "* bank_scoring_train.csv.gz\n",
    "* bank_scoring_test.csv.gz"
   ]
  },
  {
   "cell_type": "markdown",
   "metadata": {},
   "source": [
    "Описание полей:\n",
    "* SeriousDlqin2yrs - Флаг выхода на просрочку через 90 дней\n",
    "* RevolvingUtilizationOfUnsecuredLines - Общий баланс по кредитным картам и личным кредитным линиям, за исключением недвижимости, и без задолженности по кредитам, таким как автокредиты, деленные на сумму кредитных лимитов\n",
    "* age - Возраст заёмщика в годах\n",
    "* NumberOfTime30-59DaysPastDueNotWorse - Сколько раз заемщик просрочил выплату не более, чем на 30-59 дней, за последние 2 года.\n",
    "* DebtRatio - Ежемесячные платежи по долгам, алименты и прожиточные расходы, делённые на месячный валовый доход\n",
    "* MonthlyIncome - Ежемесячный доход\n",
    "* NumberOfOpenCreditLinesAndLoans - Количество открытых кредитов (например, автокредит или закладная, кредитные карты и т.д.)\n",
    "* NumberOfTimes90DaysLate - Сколько раз заёмщик просрочил выплату на 90 дней и более.\n",
    "* NumberRealEstateLoansOrLines - Количество ипотечных кредитов и кредитов на недвижимость\n",
    "* NumberOfTime60-89DaysPastDueNotWorse - Сколько раз заёмщик просрочил выплату не более, чем на 60-89 дней, за последние 2 года.\n",
    "* NumberOfDependents - Количество иждивенцев в семье, исключая самого заёмщика (супруга, дети и т.д.)"
   ]
  },
  {
   "cell_type": "markdown",
   "metadata": {},
   "source": [
    "Целевой переменной является SeriousDlqin2yrs"
   ]
  },
  {
   "cell_type": "markdown",
   "metadata": {},
   "source": [
    "# Сравнить работу алгоритмов классификации:\n",
    "* KNeighborsClassifier (например, с числом ближайших соседей n_neighbors = 1, 10, 50, 100)\n",
    "\n",
    "http://scikit-learn.org/stable/modules/generated/sklearn.neighbors.KNeighborsClassifier.html#sklearn.neighbors.KNeighborsClassifier\n",
    "\n",
    "* DecisionTreeClassifier (например, с максимальной глубиной max_depth = 1, 10, 100, None)\n",
    "\n",
    "http://scikit-learn.org/stable/modules/generated/sklearn.tree.DecisionTreeClassifier.html#sklearn.tree.DecisionTreeClassifier\n",
    "\n",
    "* LogisticRegression\n",
    "\n",
    "http://scikit-learn.org/stable/modules/generated/sklearn.linear_model.LogisticRegression.html"
   ]
  },
  {
   "cell_type": "markdown",
   "metadata": {},
   "source": [
    "# Для анализа работы алгоритмов использовать метрики:\n",
    "* f1_score\n",
    "\n",
    "http://scikit-learn.org/stable/modules/generated/sklearn.metrics.f1_score.html\n",
    "\n",
    "* roc_auc_score\n",
    "\n",
    "http://scikit-learn.org/stable/modules/generated/sklearn.metrics.roc_auc_score.html\n",
    "\n",
    "* accuracy_score\n",
    "\n",
    "http://scikit-learn.org/stable/modules/generated/sklearn.metrics.accuracy_score.html"
   ]
  },
  {
   "cell_type": "markdown",
   "metadata": {},
   "source": [
    "# Для разбиения выборки в процессе кросс-валидации в процессе обучения можно использовать KFold: \n",
    "\n",
    "* http://scikit-learn.org/stable/modules/generated/sklearn.model_selection.KFold.html"
   ]
  },
  {
   "cell_type": "code",
   "execution_count": null,
   "metadata": {},
   "outputs": [],
   "source": []
  }
 ],
 "metadata": {
  "kernelspec": {
   "display_name": "Python 3",
   "language": "python",
   "name": "python3"
  },
  "language_info": {
   "codemirror_mode": {
    "name": "ipython",
    "version": 3
   },
   "file_extension": ".py",
   "mimetype": "text/x-python",
   "name": "python",
   "nbconvert_exporter": "python",
   "pygments_lexer": "ipython3",
   "version": "3.5.5"
  },
  "toc": {
   "base_numbering": 1,
   "nav_menu": {
    "height": "40px",
    "width": "252px"
   },
   "number_sections": true,
   "sideBar": true,
   "skip_h1_title": false,
   "title_cell": "Table of Contents",
   "title_sidebar": "Contents",
   "toc_cell": true,
   "toc_position": {},
   "toc_section_display": "block",
   "toc_window_display": false
  }
 },
 "nbformat": 4,
 "nbformat_minor": 2
}
