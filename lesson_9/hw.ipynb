{
 "cells": [
  {
   "cell_type": "code",
   "execution_count": 77,
   "metadata": {},
   "outputs": [
    {
     "name": "stdout",
     "output_type": "stream",
     "text": [
      "Keras version 2.2.4.\n"
     ]
    }
   ],
   "source": [
    "from __future__ import print_function\n",
    "\n",
    "import numpy\n",
    "import pandas\n",
    "\n",
    "import sklearn.metrics\n",
    "import sklearn.datasets\n",
    "import sklearn.model_selection\n",
    "\n",
    "import keras\n",
    "print('Keras version %s.' % keras.__version__)\n",
    "\n",
    "import matplotlib.pyplot as plt\n",
    "%matplotlib inline"
   ]
  },
  {
   "cell_type": "code",
   "execution_count": 78,
   "metadata": {},
   "outputs": [],
   "source": [
    "# Загружаем данные\n",
    "X_full, y_full = sklearn.datasets.load_digits(n_class=10, return_X_y=True)"
   ]
  },
  {
   "cell_type": "code",
   "execution_count": 79,
   "metadata": {},
   "outputs": [],
   "source": [
    "# Преобразуем таргет в четные/нечетные\n",
    "y_full = numpy.asarray(list(map(lambda x: x % 2, y_full)))"
   ]
  },
  {
   "cell_type": "code",
   "execution_count": 80,
   "metadata": {},
   "outputs": [],
   "source": [
    "# Разбиваем набор данных на Train и Test\n",
    "X, Xt, y, yt = sklearn.model_selection.train_test_split(X_full, y_full, test_size=0.3, random_state=0)"
   ]
  },
  {
   "cell_type": "code",
   "execution_count": 81,
   "metadata": {},
   "outputs": [
    {
     "name": "stdout",
     "output_type": "stream",
     "text": [
      "(1257, 8, 8, 1) (540, 8, 8, 1)\n"
     ]
    }
   ],
   "source": [
    "# Преобразуем данные изображений в тензоры\n",
    "X = X.reshape((X.shape[0], 8, 8, 1))\n",
    "Xt = Xt.reshape((Xt.shape[0], 8, 8, 1))\n",
    "print(X.shape, Xt.shape)"
   ]
  },
  {
   "cell_type": "code",
   "execution_count": 82,
   "metadata": {},
   "outputs": [
    {
     "name": "stdout",
     "output_type": "stream",
     "text": [
      "(1257, 2) (540, 2)\n"
     ]
    }
   ],
   "source": [
    "# Преобразуем данные меток в тензоры\n",
    "y = keras.utils.to_categorical(y, num_classes=2)\n",
    "yt = keras.utils.to_categorical(yt, num_classes=2)\n",
    "print(y.shape, yt.shape)"
   ]
  },
  {
   "cell_type": "code",
   "execution_count": 83,
   "metadata": {},
   "outputs": [
    {
     "data": {
      "image/png": "[encoded data removed]",
      "text/plain": [
       "<Figure size 432x288 with 10 Axes>"
      ]
     },
     "metadata": {
      "needs_background": "light"
     },
     "output_type": "display_data"
    }
   ],
   "source": [
    "# Посмотрим на картинки глазами\n",
    "c = 1\n",
    "for image in Xt[:10]:\n",
    "    plt.subplot(2, 10, c)\n",
    "    plt.axis('off')\n",
    "    plt.imshow(image[:,:,0], cmap=plt.cm.gray_r, interpolation='nearest')\n",
    "    c += 1\n",
    "plt.show()"
   ]
  },
  {
   "cell_type": "code",
   "execution_count": 84,
   "metadata": {},
   "outputs": [],
   "source": [
    "# Описываем модель для классификации цифр\n",
    "model = keras.models.Sequential()\n",
    "model.add(keras.layers.Conv2D(filters=6, kernel_size=(3, 3), input_shape=(8, 8, 1)))\n",
    "model.add(keras.layers.Activation('relu'))\n",
    "model.add(keras.layers.MaxPool2D(pool_size=(2, 2)))\n",
    "model.add(keras.layers.Conv2D(filters=12, kernel_size=(3, 3)))\n",
    "model.add(keras.layers.Activation('relu'))\n",
    "model.add(keras.layers.Conv2D(filters=10, kernel_size=(1, 1)))\n",
    "model.add(keras.layers.Flatten())\n",
    "model.add(keras.layers.Dense(2, activation='softmax'))\n",
    "\n",
    "# Компилируем модель\n",
    "sgd = keras.optimizers.SGD(lr=0.01, decay=1e-6, momentum=0.9, nesterov=True)\n",
    "model.compile(optimizer=sgd, loss='categorical_crossentropy', metrics=['accuracy'])"
   ]
  },
  {
   "cell_type": "code",
   "execution_count": 85,
   "metadata": {},
   "outputs": [
    {
     "name": "stdout",
     "output_type": "stream",
     "text": [
      "_________________________________________________________________\n",
      "Layer (type)                 Output Shape              Param #   \n",
      "=================================================================\n",
      "conv2d_24 (Conv2D)           (None, 6, 6, 6)           60        \n",
      "_________________________________________________________________\n",
      "activation_17 (Activation)   (None, 6, 6, 6)           0         \n",
      "_________________________________________________________________\n",
      "max_pooling2d_9 (MaxPooling2 (None, 3, 3, 6)           0         \n",
      "_________________________________________________________________\n",
      "conv2d_25 (Conv2D)           (None, 1, 1, 12)          660       \n",
      "_________________________________________________________________\n",
      "activation_18 (Activation)   (None, 1, 1, 12)          0         \n",
      "_________________________________________________________________\n",
      "conv2d_26 (Conv2D)           (None, 1, 1, 10)          130       \n",
      "_________________________________________________________________\n",
      "flatten_2 (Flatten)          (None, 10)                0         \n",
      "_________________________________________________________________\n",
      "dense_7 (Dense)              (None, 2)                 22        \n",
      "=================================================================\n",
      "Total params: 872\n",
      "Trainable params: 872\n",
      "Non-trainable params: 0\n",
      "_________________________________________________________________\n"
     ]
    }
   ],
   "source": [
    "model.summary()"
   ]
  },
  {
   "cell_type": "code",
   "execution_count": 86,
   "metadata": {},
   "outputs": [
    {
     "name": "stdout",
     "output_type": "stream",
     "text": [
      "Epoch 1/10\n",
      "1257/1257 [==============================] - 0s 392us/step - loss: 0.6403 - acc: 0.6269\n",
      "Epoch 2/10\n",
      "1257/1257 [==============================] - 0s 123us/step - loss: 0.3655 - acc: 0.8393\n",
      "Epoch 3/10\n",
      "1257/1257 [==============================] - 0s 88us/step - loss: 0.2568 - acc: 0.8926\n",
      "Epoch 4/10\n",
      "1257/1257 [==============================] - 0s 71us/step - loss: 0.1846 - acc: 0.9340\n",
      "Epoch 5/10\n",
      "1257/1257 [==============================] - 0s 86us/step - loss: 0.1565 - acc: 0.9356\n",
      "Epoch 6/10\n",
      "1257/1257 [==============================] - 0s 78us/step - loss: 0.1367 - acc: 0.9475\n",
      "Epoch 7/10\n",
      "1257/1257 [==============================] - 0s 81us/step - loss: 0.1356 - acc: 0.9451\n",
      "Epoch 8/10\n",
      "1257/1257 [==============================] - 0s 76us/step - loss: 0.1132 - acc: 0.9523\n",
      "Epoch 9/10\n",
      "1257/1257 [==============================] - 0s 65us/step - loss: 0.0949 - acc: 0.9658\n",
      "Epoch 10/10\n",
      "1257/1257 [==============================] - 0s 75us/step - loss: 0.0882 - acc: 0.9682\n"
     ]
    },
    {
     "data": {
      "text/plain": [
       "<keras.callbacks.History at 0x7f30dd85b2e8>"
      ]
     },
     "execution_count": 86,
     "metadata": {},
     "output_type": "execute_result"
    }
   ],
   "source": [
    "# Обучим модель\n",
    "model.fit(X, y, epochs=10, batch_size=64)"
   ]
  },
  {
   "cell_type": "code",
   "execution_count": 87,
   "metadata": {},
   "outputs": [
    {
     "name": "stdout",
     "output_type": "stream",
     "text": [
      "540/540 [==============================] - 0s 215us/step\n",
      "Test loss: 0.1161, acc: 0.9481\n",
      "\n",
      "Confusion matrix:\n",
      "[[246  21]\n",
      " [  7 266]]\n"
     ]
    }
   ],
   "source": [
    "# Оценим модель на тестовом наборе\n",
    "score = model.evaluate(Xt, yt)\n",
    "print('Test loss: %.4f, acc: %.4f\\n' % tuple(score))\n",
    "\n",
    "pred = model.predict(Xt)\n",
    "print(\"Confusion matrix:\\n%s\" % sklearn.metrics.confusion_matrix(numpy.argmax(yt, axis=1), numpy.argmax(pred, axis=1)))"
   ]
  }
 ],
 "metadata": {
  "kernelspec": {
   "display_name": "Python 3",
   "language": "python",
   "name": "python3"
  },
  "language_info": {
   "codemirror_mode": {
    "name": "ipython",
    "version": 3
   },
   "file_extension": ".py",
   "mimetype": "text/x-python",
   "name": "python",
   "nbconvert_exporter": "python",
   "pygments_lexer": "ipython3",
   "version": "3.6.6"
  }
 },
 "nbformat": 4,
 "nbformat_minor": 2
}
