{
 "cells": [
  {
   "cell_type": "code",
   "execution_count": 1,
   "metadata": {},
   "outputs": [
    {
     "name": "stderr",
     "output_type": "stream",
     "text": [
      "Using TensorFlow backend.\n"
     ]
    },
    {
     "name": "stdout",
     "output_type": "stream",
     "text": [
      "2.2.4\n"
     ]
    }
   ],
   "source": [
    "from __future__ import print_function\n",
    "\n",
    "import numpy\n",
    "import pandas\n",
    "\n",
    "import sklearn.metrics\n",
    "import sklearn.datasets\n",
    "import sklearn.model_selection\n",
    "\n",
    "import keras\n",
    "print(keras.__version__)\n",
    "\n",
    "import matplotlib.pyplot as plt\n",
    "%matplotlib inline"
   ]
  },
  {
   "cell_type": "code",
   "execution_count": 2,
   "metadata": {},
   "outputs": [],
   "source": [
    "# Загружаем данные\n",
    "X_full, y_full = sklearn.datasets.load_digits(n_class=10, return_X_y=True)"
   ]
  },
  {
   "cell_type": "code",
   "execution_count": 3,
   "metadata": {},
   "outputs": [],
   "source": [
    "# Разбиваем набор данных на Train и Test\n",
    "X, Xt, y, yt = sklearn.model_selection.train_test_split(X_full, y_full, test_size=0.3, random_state=0)"
   ]
  },
  {
   "cell_type": "code",
   "execution_count": 4,
   "metadata": {},
   "outputs": [
    {
     "name": "stdout",
     "output_type": "stream",
     "text": [
      "(1257, 8, 8, 1) (540, 8, 8, 1)\n"
     ]
    }
   ],
   "source": [
    "# Преобразуем данные изображений в тензоры\n",
    "X = X.reshape((X.shape[0], 8, 8, 1))\n",
    "Xt = Xt.reshape((Xt.shape[0], 8, 8, 1))\n",
    "print(X.shape, Xt.shape)"
   ]
  },
  {
   "cell_type": "code",
   "execution_count": 5,
   "metadata": {},
   "outputs": [
    {
     "name": "stdout",
     "output_type": "stream",
     "text": [
      "(1257, 10) (540, 10)\n"
     ]
    }
   ],
   "source": [
    "# Преобразуем данные меток в тензоры\n",
    "y = keras.utils.to_categorical(y, num_classes=10)\n",
    "yt = keras.utils.to_categorical(yt, num_classes=10)\n",
    "print(y.shape, yt.shape)"
   ]
  },
  {
   "cell_type": "code",
   "execution_count": 6,
   "metadata": {},
   "outputs": [
    {
     "data": {
      "image/png": "[encoded data removed]",
      "text/plain": [
       "<Figure size 432x288 with 10 Axes>"
      ]
     },
     "metadata": {
      "needs_background": "light"
     },
     "output_type": "display_data"
    }
   ],
   "source": [
    "# Посмотрим на картинки глазами\n",
    "c = 1\n",
    "for image in Xt[:10]:\n",
    "    plt.subplot(2, 10, c)\n",
    "    plt.axis('off')\n",
    "    plt.imshow(image[:,:,0], cmap=plt.cm.gray_r, interpolation='nearest')\n",
    "    c += 1\n",
    "plt.show()"
   ]
  },
  {
   "cell_type": "code",
   "execution_count": 7,
   "metadata": {},
   "outputs": [],
   "source": [
    "# Описываем модель для классификации цифр\n",
    "model = keras.models.Sequential()\n",
    "model.add(keras.layers.Conv2D(filters=6, kernel_size=(3, 3), input_shape=(8, 8, 1)))\n",
    "model.add(keras.layers.Activation('relu'))\n",
    "model.add(keras.layers.MaxPool2D(pool_size=(2, 2)))\n",
    "model.add(keras.layers.Conv2D(filters=12, kernel_size=(3, 3)))\n",
    "model.add(keras.layers.Activation('relu'))\n",
    "model.add(keras.layers.Conv2D(filters=10, kernel_size=(1, 1)))\n",
    "model.add(keras.layers.Activation('softmax'))\n",
    "model.add(keras.layers.Flatten())\n",
    "\n",
    "# Компилируем модель\n",
    "sgd = keras.optimizers.SGD(lr=0.01, decay=1e-6, momentum=0.9, nesterov=True)\n",
    "model.compile(optimizer=sgd, loss='categorical_crossentropy', metrics=['accuracy'])"
   ]
  },
  {
   "cell_type": "code",
   "execution_count": 8,
   "metadata": {},
   "outputs": [
    {
     "name": "stdout",
     "output_type": "stream",
     "text": [
      "_________________________________________________________________\n",
      "Layer (type)                 Output Shape              Param #   \n",
      "=================================================================\n",
      "conv2d_1 (Conv2D)            (None, 6, 6, 6)           60        \n",
      "_________________________________________________________________\n",
      "activation_1 (Activation)    (None, 6, 6, 6)           0         \n",
      "_________________________________________________________________\n",
      "max_pooling2d_1 (MaxPooling2 (None, 3, 3, 6)           0         \n",
      "_________________________________________________________________\n",
      "conv2d_2 (Conv2D)            (None, 1, 1, 12)          660       \n",
      "_________________________________________________________________\n",
      "activation_2 (Activation)    (None, 1, 1, 12)          0         \n",
      "_________________________________________________________________\n",
      "conv2d_3 (Conv2D)            (None, 1, 1, 10)          130       \n",
      "_________________________________________________________________\n",
      "activation_3 (Activation)    (None, 1, 1, 10)          0         \n",
      "_________________________________________________________________\n",
      "flatten_1 (Flatten)          (None, 10)                0         \n",
      "=================================================================\n",
      "Total params: 850\n",
      "Trainable params: 850\n",
      "Non-trainable params: 0\n",
      "_________________________________________________________________\n"
     ]
    }
   ],
   "source": [
    "model.summary()"
   ]
  },
  {
   "cell_type": "code",
   "execution_count": 9,
   "metadata": {},
   "outputs": [
    {
     "name": "stdout",
     "output_type": "stream",
     "text": [
      "Epoch 1/10\n",
      "1257/1257 [==============================] - 1s 441us/step - loss: 1.8965 - acc: 0.3126\n",
      "Epoch 2/10\n",
      "1257/1257 [==============================] - 0s 77us/step - loss: 0.8684 - acc: 0.7263\n",
      "Epoch 3/10\n",
      "1257/1257 [==============================] - 0s 125us/step - loss: 0.5555 - acc: 0.8154\n",
      "Epoch 4/10\n",
      "1257/1257 [==============================] - 0s 137us/step - loss: 0.3390 - acc: 0.8839\n",
      "Epoch 5/10\n",
      "1257/1257 [==============================] - 0s 156us/step - loss: 0.2433 - acc: 0.9220\n",
      "Epoch 6/10\n",
      "1257/1257 [==============================] - 0s 107us/step - loss: 0.1990 - acc: 0.9403\n",
      "Epoch 7/10\n",
      "1257/1257 [==============================] - 0s 76us/step - loss: 0.1671 - acc: 0.9451\n",
      "Epoch 8/10\n",
      "1257/1257 [==============================] - 0s 93us/step - loss: 0.1362 - acc: 0.9554\n",
      "Epoch 9/10\n",
      "1257/1257 [==============================] - 0s 120us/step - loss: 0.1136 - acc: 0.9602\n",
      "Epoch 10/10\n",
      "1257/1257 [==============================] - 0s 92us/step - loss: 0.1006 - acc: 0.9634\n"
     ]
    },
    {
     "data": {
      "text/plain": [
       "<keras.callbacks.History at 0x7f4160b73e48>"
      ]
     },
     "execution_count": 9,
     "metadata": {},
     "output_type": "execute_result"
    }
   ],
   "source": [
    "# Обучим модель\n",
    "model.fit(X, y, epochs=10, batch_size=64)"
   ]
  },
  {
   "cell_type": "code",
   "execution_count": 10,
   "metadata": {},
   "outputs": [
    {
     "name": "stdout",
     "output_type": "stream",
     "text": [
      "540/540 [==============================] - 0s 194us/step\n",
      "Test loss: 0.2511, acc: 0.9111\n",
      "\n",
      "Confusion matrix:\n",
      "[[44  0  0  0  0  0  1  0  0  0]\n",
      " [ 0 42  0  0  4  1  0  0  5  0]\n",
      " [ 0  0 48  2  0  0  0  0  3  0]\n",
      " [ 0  0  2 52  0  0  0  0  0  0]\n",
      " [ 0  0  0  0 47  0  0  1  0  0]\n",
      " [ 0  0  0  0  0 52  2  0  0  3]\n",
      " [ 0  1  0  0  0  0 59  0  0  0]\n",
      " [ 1  0  0  0  6  0  0 46  0  0]\n",
      " [ 0  1  0  1  1  0  8  1 47  2]\n",
      " [ 0  0  0  1  0  0  0  0  1 55]]\n"
     ]
    }
   ],
   "source": [
    "# Оценим модель на тестовом наборе\n",
    "score = model.evaluate(Xt, yt)\n",
    "print('Test loss: %.4f, acc: %.4f\\n' % tuple(score))\n",
    "\n",
    "pred = model.predict(Xt)\n",
    "print(\"Confusion matrix:\\n%s\" % sklearn.metrics.confusion_matrix(numpy.argmax(yt, axis=1), numpy.argmax(pred, axis=1)))"
   ]
  }
 ],
 "metadata": {
  "kernelspec": {
   "display_name": "Python 3",
   "language": "python",
   "name": "python3"
  },
  "language_info": {
   "codemirror_mode": {
    "name": "ipython",
    "version": 3
   },
   "file_extension": ".py",
   "mimetype": "text/x-python",
   "name": "python",
   "nbconvert_exporter": "python",
   "pygments_lexer": "ipython3",
   "version": "3.6.6"
  }
 },
 "nbformat": 4,
 "nbformat_minor": 2
}
